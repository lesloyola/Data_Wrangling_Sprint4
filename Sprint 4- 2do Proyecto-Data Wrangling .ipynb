{
 "cells": [
  {
   "cell_type": "markdown",
   "id": "3Xg_RQfnafXz",
   "metadata": {
    "id": "3Xg_RQfnafXz"
   },
   "source": [
    "# ¡Llena ese carrito!"
   ]
  },
  {
   "cell_type": "markdown",
   "id": "mhIvmmkW414q",
   "metadata": {
    "id": "mhIvmmkW414q"
   },
   "source": [
    "# Introducción\n",
    "\n",
    "Instacart es una plataforma de entregas de comestibles donde la clientela puede registrar un pedido y hacer que se lo entreguen, similar a Uber Eats y Door Dash.\n",
    "El conjunto de datos que te hemos proporcionado tiene modificaciones del original. Redujimos el tamaño del conjunto para que tus cálculos se hicieran más rápido e introdujimos valores ausentes y duplicados. Tuvimos cuidado de conservar las distribuciones de los datos originales cuando hicimos los cambios.\n",
    "\n",
    "Debes completar tres pasos. Para cada uno de ellos, escribe una breve introducción que refleje con claridad cómo pretendes resolver cada paso, y escribe párrafos explicatorios que justifiquen tus decisiones al tiempo que avanzas en tu solución.  También escribe una conclusión que resuma tus hallazgos y elecciones.\n"
   ]
  },
  {
   "cell_type": "markdown",
   "id": "3MbyzpOQZ5Or",
   "metadata": {
    "id": "3MbyzpOQZ5Or"
   },
   "source": [
    "## Diccionario de datos\n",
    "\n",
    "Hay cinco tablas en el conjunto de datos, y tendrás que usarlas todas para hacer el preprocesamiento de datos y el análisis exploratorio de datos. A continuación se muestra un diccionario de datos que enumera las columnas de cada tabla y describe los datos que contienen.\n",
    "\n",
    "- `instacart_orders.csv`: cada fila corresponde a un pedido en la aplicación Instacart.\n",
    "    - `'order_id'`: número de ID que identifica de manera única cada pedido.\n",
    "    - `'user_id'`: número de ID que identifica de manera única la cuenta de cada cliente.\n",
    "    - `'order_number'`: el número de veces que este cliente ha hecho un pedido.\n",
    "    - `'order_dow'`: día de la semana en que se hizo el pedido (0 si es domingo).\n",
    "    - `'order_hour_of_day'`: hora del día en que se hizo el pedido.\n",
    "    - `'days_since_prior_order'`: número de días transcurridos desde que este cliente hizo su pedido anterior.\n",
    "- `products.csv`: cada fila corresponde a un producto único que pueden comprar los clientes.\n",
    "    - `'product_id'`: número ID que identifica de manera única cada producto.\n",
    "    - `'product_name'`: nombre del producto.\n",
    "    - `'aisle_id'`: número ID que identifica de manera única cada categoría de pasillo de víveres.\n",
    "    - `'department_id'`: número ID que identifica de manera única cada departamento de víveres.\n",
    "- `order_products.csv`: cada fila corresponde a un artículo pedido en un pedido.\n",
    "    - `'order_id'`: número de ID que identifica de manera única cada pedido.\n",
    "    - `'product_id'`: número ID que identifica de manera única cada producto.\n",
    "    - `'add_to_cart_order'`: el orden secuencial en el que se añadió cada artículo en el carrito.\n",
    "    - `'reordered'`: 0 si el cliente nunca ha pedido este producto antes, 1 si lo ha pedido.\n",
    "- `aisles.csv`\n",
    "    - `'aisle_id'`: número ID que identifica de manera única cada categoría de pasillo de víveres.\n",
    "    - `'aisle'`: nombre del pasillo.\n",
    "- `departments.csv`\n",
    "    - `'department_id'`: número ID que identifica de manera única cada departamento de víveres.\n",
    "    - `'department'`: nombre del departamento."
   ]
  },
  {
   "cell_type": "markdown",
   "id": "n3Ha_cNSZ8lK",
   "metadata": {
    "id": "n3Ha_cNSZ8lK"
   },
   "source": [
    "# Paso 1. Descripción de los datos\n",
    "\n",
    "Lee los archivos de datos (`/datasets/instacart_orders.csv`, `/datasets/products.csv`, `/datasets/aisles.csv`, `/datasets/departments.csv` y `/datasets/order_products.csv`) con `pd.read_csv()` usando los parámetros adecuados para leer los datos correctamente. Verifica la información para cada DataFrame creado.\n"
   ]
  },
  {
   "cell_type": "markdown",
   "id": "OmlQPLlyaAfR",
   "metadata": {
    "id": "OmlQPLlyaAfR"
   },
   "source": [
    "## Plan de solución\n",
    "\n",
    "Escribe aquí tu plan de solución para el Paso 1. Descripción de los datos."
   ]
  },
  {
   "cell_type": "code",
   "execution_count": 2,
   "id": "fbf1adab",
   "metadata": {
    "id": "fbf1adab"
   },
   "outputs": [],
   "source": [
    "import pandas as pd\n",
    "from matplotlib import pyplot as plt "
   ]
  },
  {
   "cell_type": "code",
   "execution_count": 3,
   "id": "ad36396d",
   "metadata": {
    "id": "ad36396d"
   },
   "outputs": [],
   "source": [
    "instacart_orders = pd.read_csv('/datasets/instacart_orders.csv',  sep= ';')\n",
    "products = pd.read_csv('/datasets/products.csv',  sep= ';')\n",
    "aisles = pd.read_csv('/datasets/aisles.csv',  sep= ';')\n",
    "departments = pd.read_csv('/datasets/departments.csv',  sep= ';')\n",
    "order_products = pd.read_csv('/datasets/order_products.csv',  sep= ';')"
   ]
  },
  {
   "cell_type": "code",
   "execution_count": 4,
   "id": "ad6a1efa",
   "metadata": {
    "id": "ad6a1efa"
   },
   "outputs": [
    {
     "name": "stdout",
     "output_type": "stream",
     "text": [
      "<class 'pandas.core.frame.DataFrame'>\n",
      "RangeIndex: 478967 entries, 0 to 478966\n",
      "Data columns (total 6 columns):\n",
      " #   Column                  Non-Null Count   Dtype  \n",
      "---  ------                  --------------   -----  \n",
      " 0   order_id                478967 non-null  int64  \n",
      " 1   user_id                 478967 non-null  int64  \n",
      " 2   order_number            478967 non-null  int64  \n",
      " 3   order_dow               478967 non-null  int64  \n",
      " 4   order_hour_of_day       478967 non-null  int64  \n",
      " 5   days_since_prior_order  450148 non-null  float64\n",
      "dtypes: float64(1), int64(5)\n",
      "memory usage: 21.9 MB\n"
     ]
    }
   ],
   "source": [
    "instacart_orders.info(show_counts=True)"
   ]
  },
  {
   "cell_type": "code",
   "execution_count": 5,
   "id": "5130e05e",
   "metadata": {
    "id": "5130e05e"
   },
   "outputs": [
    {
     "name": "stdout",
     "output_type": "stream",
     "text": [
      "<class 'pandas.core.frame.DataFrame'>\n",
      "RangeIndex: 49694 entries, 0 to 49693\n",
      "Data columns (total 4 columns):\n",
      " #   Column         Non-Null Count  Dtype \n",
      "---  ------         --------------  ----- \n",
      " 0   product_id     49694 non-null  int64 \n",
      " 1   product_name   48436 non-null  object\n",
      " 2   aisle_id       49694 non-null  int64 \n",
      " 3   department_id  49694 non-null  int64 \n",
      "dtypes: int64(3), object(1)\n",
      "memory usage: 1.5+ MB\n"
     ]
    }
   ],
   "source": [
    "products.info()"
   ]
  },
  {
   "cell_type": "code",
   "execution_count": 6,
   "id": "d8370c05",
   "metadata": {
    "id": "d8370c05"
   },
   "outputs": [
    {
     "name": "stdout",
     "output_type": "stream",
     "text": [
      "<class 'pandas.core.frame.DataFrame'>\n",
      "RangeIndex: 134 entries, 0 to 133\n",
      "Data columns (total 2 columns):\n",
      " #   Column    Non-Null Count  Dtype \n",
      "---  ------    --------------  ----- \n",
      " 0   aisle_id  134 non-null    int64 \n",
      " 1   aisle     134 non-null    object\n",
      "dtypes: int64(1), object(1)\n",
      "memory usage: 2.2+ KB\n"
     ]
    }
   ],
   "source": [
    "aisles.info()"
   ]
  },
  {
   "cell_type": "code",
   "execution_count": 7,
   "id": "59e2090f",
   "metadata": {
    "id": "59e2090f"
   },
   "outputs": [
    {
     "name": "stdout",
     "output_type": "stream",
     "text": [
      "<class 'pandas.core.frame.DataFrame'>\n",
      "RangeIndex: 21 entries, 0 to 20\n",
      "Data columns (total 2 columns):\n",
      " #   Column         Non-Null Count  Dtype \n",
      "---  ------         --------------  ----- \n",
      " 0   department_id  21 non-null     int64 \n",
      " 1   department     21 non-null     object\n",
      "dtypes: int64(1), object(1)\n",
      "memory usage: 464.0+ bytes\n"
     ]
    }
   ],
   "source": [
    "departments.info()"
   ]
  },
  {
   "cell_type": "code",
   "execution_count": 8,
   "id": "6fc81694",
   "metadata": {
    "id": "6fc81694"
   },
   "outputs": [
    {
     "name": "stdout",
     "output_type": "stream",
     "text": [
      "<class 'pandas.core.frame.DataFrame'>\n",
      "RangeIndex: 4545007 entries, 0 to 4545006\n",
      "Data columns (total 4 columns):\n",
      " #   Column             Dtype  \n",
      "---  ------             -----  \n",
      " 0   order_id           int64  \n",
      " 1   product_id         int64  \n",
      " 2   add_to_cart_order  float64\n",
      " 3   reordered          int64  \n",
      "dtypes: float64(1), int64(3)\n",
      "memory usage: 138.7 MB\n"
     ]
    }
   ],
   "source": [
    "order_products.info()"
   ]
  },
  {
   "cell_type": "markdown",
   "id": "t75BD19oaR5f",
   "metadata": {
    "id": "t75BD19oaR5f"
   },
   "source": [
    "## Conclusiones\n",
    "\n",
    "Después de leer los archivos, se procedió a mostrar la información de cada uno. En el primer archivo se implementó show_counts=True, ya que este archivo contiene muchas filas.\n"
   ]
  },
  {
   "cell_type": "markdown",
   "id": "8RJHqxVmaVsF",
   "metadata": {
    "id": "8RJHqxVmaVsF"
   },
   "source": [
    "# Paso 2. Preprocesamiento de los datos\n",
    "\n",
    "Preprocesa los datos de la siguiente manera:\n",
    "\n",
    "- Verifica y corrige los tipos de datos (por ejemplo, asegúrate de que las columnas de ID sean números enteros).\n",
    "- Identifica y completa los valores ausentes.\n",
    "- Identifica y elimina los valores duplicados.\n",
    "\n",
    "Asegúrate de explicar qué tipos de valores ausentes y duplicados encontraste, cómo los completaste o eliminaste y por qué usaste esos métodos. ¿Por qué crees que estos valores ausentes y duplicados pueden haber estado presentes en el conjunto de datos?"
   ]
  },
  {
   "cell_type": "markdown",
   "id": "p6poABZQaZYb",
   "metadata": {
    "id": "p6poABZQaZYb"
   },
   "source": [
    "## Plan de solución\n",
    "\n",
    "Verificar y corregir los tipos de datos de todas las columnas.\n",
    "Identificar y completar los valores ausentes.\n",
    "Identificar y eliminar los valores duplicados.\n",
    "Documentar los hallazgos y las acciones tomadas para cada uno de los pasos anteriores."
   ]
  },
  {
   "cell_type": "markdown",
   "id": "07357848-dc64-4156-9cc3-01ff4365226d",
   "metadata": {
    "id": "07357848-dc64-4156-9cc3-01ff4365226d"
   },
   "source": [
    "## Encuentra y elimina los valores duplicados (y describe cómo tomaste tus decisiones)."
   ]
  },
  {
   "cell_type": "markdown",
   "id": "f179f0a9",
   "metadata": {
    "id": "f179f0a9"
   },
   "source": [
    "### `instacart_orders` data frame"
   ]
  },
  {
   "cell_type": "code",
   "execution_count": 9,
   "id": "b99297a5-405a-463d-8535-9adc3da4ad74",
   "metadata": {
    "id": "b99297a5-405a-463d-8535-9adc3da4ad74"
   },
   "outputs": [
    {
     "data": {
      "text/plain": [
       "15"
      ]
     },
     "execution_count": 9,
     "metadata": {},
     "output_type": "execute_result"
    }
   ],
   "source": [
    "# Revisa si hay pedidos duplicados\n",
    "instacart_orders['order_id'].duplicated().sum()"
   ]
  },
  {
   "cell_type": "code",
   "execution_count": 10,
   "id": "b91aed48",
   "metadata": {},
   "outputs": [
    {
     "data": {
      "text/html": [
       "<div>\n",
       "<style scoped>\n",
       "    .dataframe tbody tr th:only-of-type {\n",
       "        vertical-align: middle;\n",
       "    }\n",
       "\n",
       "    .dataframe tbody tr th {\n",
       "        vertical-align: top;\n",
       "    }\n",
       "\n",
       "    .dataframe thead th {\n",
       "        text-align: right;\n",
       "    }\n",
       "</style>\n",
       "<table border=\"1\" class=\"dataframe\">\n",
       "  <thead>\n",
       "    <tr style=\"text-align: right;\">\n",
       "      <th></th>\n",
       "      <th>order_id</th>\n",
       "      <th>user_id</th>\n",
       "      <th>order_number</th>\n",
       "      <th>order_dow</th>\n",
       "      <th>order_hour_of_day</th>\n",
       "      <th>days_since_prior_order</th>\n",
       "    </tr>\n",
       "  </thead>\n",
       "  <tbody>\n",
       "    <tr>\n",
       "      <th>0</th>\n",
       "      <td>1515936</td>\n",
       "      <td>183418</td>\n",
       "      <td>11</td>\n",
       "      <td>6</td>\n",
       "      <td>13</td>\n",
       "      <td>30.0</td>\n",
       "    </tr>\n",
       "    <tr>\n",
       "      <th>1</th>\n",
       "      <td>1690866</td>\n",
       "      <td>163593</td>\n",
       "      <td>5</td>\n",
       "      <td>5</td>\n",
       "      <td>12</td>\n",
       "      <td>9.0</td>\n",
       "    </tr>\n",
       "    <tr>\n",
       "      <th>2</th>\n",
       "      <td>1454967</td>\n",
       "      <td>39980</td>\n",
       "      <td>4</td>\n",
       "      <td>5</td>\n",
       "      <td>19</td>\n",
       "      <td>2.0</td>\n",
       "    </tr>\n",
       "    <tr>\n",
       "      <th>3</th>\n",
       "      <td>1768857</td>\n",
       "      <td>82516</td>\n",
       "      <td>56</td>\n",
       "      <td>0</td>\n",
       "      <td>20</td>\n",
       "      <td>10.0</td>\n",
       "    </tr>\n",
       "    <tr>\n",
       "      <th>4</th>\n",
       "      <td>3007858</td>\n",
       "      <td>196724</td>\n",
       "      <td>2</td>\n",
       "      <td>4</td>\n",
       "      <td>12</td>\n",
       "      <td>17.0</td>\n",
       "    </tr>\n",
       "  </tbody>\n",
       "</table>\n",
       "</div>"
      ],
      "text/plain": [
       "   order_id  user_id  order_number  order_dow  order_hour_of_day  \\\n",
       "0   1515936   183418            11          6                 13   \n",
       "1   1690866   163593             5          5                 12   \n",
       "2   1454967    39980             4          5                 19   \n",
       "3   1768857    82516            56          0                 20   \n",
       "4   3007858   196724             2          4                 12   \n",
       "\n",
       "   days_since_prior_order  \n",
       "0                    30.0  \n",
       "1                     9.0  \n",
       "2                     2.0  \n",
       "3                    10.0  \n",
       "4                    17.0  "
      ]
     },
     "execution_count": 10,
     "metadata": {},
     "output_type": "execute_result"
    }
   ],
   "source": [
    "instacart_orders.head()"
   ]
  },
  {
   "cell_type": "markdown",
   "id": "PEkwUX_gvt5A",
   "metadata": {
    "id": "PEkwUX_gvt5A"
   },
   "source": [
    "¿Tienes líneas duplicadas? Si sí, ¿qué tienen en común?"
   ]
  },
  {
   "cell_type": "code",
   "execution_count": 11,
   "id": "0d44de5d",
   "metadata": {
    "id": "0d44de5d",
    "scrolled": true
   },
   "outputs": [
    {
     "data": {
      "text/html": [
       "<div>\n",
       "<style scoped>\n",
       "    .dataframe tbody tr th:only-of-type {\n",
       "        vertical-align: middle;\n",
       "    }\n",
       "\n",
       "    .dataframe tbody tr th {\n",
       "        vertical-align: top;\n",
       "    }\n",
       "\n",
       "    .dataframe thead th {\n",
       "        text-align: right;\n",
       "    }\n",
       "</style>\n",
       "<table border=\"1\" class=\"dataframe\">\n",
       "  <thead>\n",
       "    <tr style=\"text-align: right;\">\n",
       "      <th></th>\n",
       "      <th>order_id</th>\n",
       "      <th>user_id</th>\n",
       "      <th>order_number</th>\n",
       "      <th>order_dow</th>\n",
       "      <th>order_hour_of_day</th>\n",
       "      <th>days_since_prior_order</th>\n",
       "    </tr>\n",
       "  </thead>\n",
       "  <tbody>\n",
       "    <tr>\n",
       "      <th>4838</th>\n",
       "      <td>2766110</td>\n",
       "      <td>162084</td>\n",
       "      <td>41</td>\n",
       "      <td>3</td>\n",
       "      <td>2</td>\n",
       "      <td>16.0</td>\n",
       "    </tr>\n",
       "    <tr>\n",
       "      <th>5156</th>\n",
       "      <td>2190225</td>\n",
       "      <td>138285</td>\n",
       "      <td>18</td>\n",
       "      <td>3</td>\n",
       "      <td>2</td>\n",
       "      <td>11.0</td>\n",
       "    </tr>\n",
       "    <tr>\n",
       "      <th>15506</th>\n",
       "      <td>553049</td>\n",
       "      <td>58599</td>\n",
       "      <td>13</td>\n",
       "      <td>3</td>\n",
       "      <td>2</td>\n",
       "      <td>7.0</td>\n",
       "    </tr>\n",
       "    <tr>\n",
       "      <th>18420</th>\n",
       "      <td>382357</td>\n",
       "      <td>120200</td>\n",
       "      <td>19</td>\n",
       "      <td>3</td>\n",
       "      <td>2</td>\n",
       "      <td>11.0</td>\n",
       "    </tr>\n",
       "    <tr>\n",
       "      <th>24691</th>\n",
       "      <td>690242</td>\n",
       "      <td>77357</td>\n",
       "      <td>2</td>\n",
       "      <td>3</td>\n",
       "      <td>2</td>\n",
       "      <td>9.0</td>\n",
       "    </tr>\n",
       "    <tr>\n",
       "      <th>...</th>\n",
       "      <td>...</td>\n",
       "      <td>...</td>\n",
       "      <td>...</td>\n",
       "      <td>...</td>\n",
       "      <td>...</td>\n",
       "      <td>...</td>\n",
       "    </tr>\n",
       "    <tr>\n",
       "      <th>457013</th>\n",
       "      <td>3384021</td>\n",
       "      <td>14881</td>\n",
       "      <td>6</td>\n",
       "      <td>3</td>\n",
       "      <td>2</td>\n",
       "      <td>30.0</td>\n",
       "    </tr>\n",
       "    <tr>\n",
       "      <th>458816</th>\n",
       "      <td>910166</td>\n",
       "      <td>164782</td>\n",
       "      <td>18</td>\n",
       "      <td>3</td>\n",
       "      <td>2</td>\n",
       "      <td>4.0</td>\n",
       "    </tr>\n",
       "    <tr>\n",
       "      <th>459635</th>\n",
       "      <td>1680532</td>\n",
       "      <td>106435</td>\n",
       "      <td>6</td>\n",
       "      <td>3</td>\n",
       "      <td>2</td>\n",
       "      <td>21.0</td>\n",
       "    </tr>\n",
       "    <tr>\n",
       "      <th>468324</th>\n",
       "      <td>222962</td>\n",
       "      <td>54979</td>\n",
       "      <td>59</td>\n",
       "      <td>3</td>\n",
       "      <td>2</td>\n",
       "      <td>3.0</td>\n",
       "    </tr>\n",
       "    <tr>\n",
       "      <th>477526</th>\n",
       "      <td>2592344</td>\n",
       "      <td>46860</td>\n",
       "      <td>38</td>\n",
       "      <td>3</td>\n",
       "      <td>2</td>\n",
       "      <td>3.0</td>\n",
       "    </tr>\n",
       "  </tbody>\n",
       "</table>\n",
       "<p>121 rows × 6 columns</p>\n",
       "</div>"
      ],
      "text/plain": [
       "        order_id  user_id  order_number  order_dow  order_hour_of_day  \\\n",
       "4838     2766110   162084            41          3                  2   \n",
       "5156     2190225   138285            18          3                  2   \n",
       "15506     553049    58599            13          3                  2   \n",
       "18420     382357   120200            19          3                  2   \n",
       "24691     690242    77357             2          3                  2   \n",
       "...          ...      ...           ...        ...                ...   \n",
       "457013   3384021    14881             6          3                  2   \n",
       "458816    910166   164782            18          3                  2   \n",
       "459635   1680532   106435             6          3                  2   \n",
       "468324    222962    54979            59          3                  2   \n",
       "477526   2592344    46860            38          3                  2   \n",
       "\n",
       "        days_since_prior_order  \n",
       "4838                      16.0  \n",
       "5156                      11.0  \n",
       "15506                      7.0  \n",
       "18420                     11.0  \n",
       "24691                      9.0  \n",
       "...                        ...  \n",
       "457013                    30.0  \n",
       "458816                     4.0  \n",
       "459635                    21.0  \n",
       "468324                     3.0  \n",
       "477526                     3.0  \n",
       "\n",
       "[121 rows x 6 columns]"
      ]
     },
     "execution_count": 11,
     "metadata": {},
     "output_type": "execute_result"
    }
   ],
   "source": [
    "# Basándote en tus hallazgos,\n",
    "# Verifica todos los pedidos que se hicieron el miércoles a las 2:00 a.m.\n",
    "wednesday_2am = instacart_orders[(instacart_orders['order_dow'] == 3) & (instacart_orders['order_hour_of_day'] == 2)]\n",
    "wednesday_2am"
   ]
  },
  {
   "cell_type": "markdown",
   "id": "vu2OWyoqwOx5",
   "metadata": {
    "id": "vu2OWyoqwOx5"
   },
   "source": [
    "¿Qué sugiere este resultado?"
   ]
  },
  {
   "cell_type": "code",
   "execution_count": 12,
   "id": "480563c7",
   "metadata": {
    "id": "480563c7"
   },
   "outputs": [],
   "source": [
    "instacart_orders.drop_duplicates(inplace=True)"
   ]
  },
  {
   "cell_type": "code",
   "execution_count": 13,
   "id": "0b2396a2",
   "metadata": {
    "id": "0b2396a2"
   },
   "outputs": [
    {
     "data": {
      "text/plain": [
       "0"
      ]
     },
     "execution_count": 13,
     "metadata": {},
     "output_type": "execute_result"
    }
   ],
   "source": [
    "# Vuelve a verificar si hay filas duplicadas\n",
    "instacart_orders.duplicated().sum()"
   ]
  },
  {
   "cell_type": "code",
   "execution_count": 14,
   "id": "f6113ef1",
   "metadata": {
    "id": "f6113ef1"
   },
   "outputs": [
    {
     "data": {
      "text/plain": [
       "0"
      ]
     },
     "execution_count": 14,
     "metadata": {},
     "output_type": "execute_result"
    }
   ],
   "source": [
    "# Vuelve a verificar únicamente si hay IDs duplicados de pedidos\n",
    "# Mostrar los IDs duplicados\n",
    "instacart_orders['order_id'].duplicated().sum()"
   ]
  },
  {
   "cell_type": "markdown",
   "id": "5e8905ae",
   "metadata": {
    "id": "5e8905ae"
   },
   "source": [
    "Se descubrieron 15 elementos duplicados en esta tabla, por lo que se decidió eliminarlos para poder limpiar los datos y trabajar de manera más ordenada."
   ]
  },
  {
   "cell_type": "markdown",
   "id": "45e6bc46",
   "metadata": {
    "id": "45e6bc46"
   },
   "source": [
    "### `products` data frame"
   ]
  },
  {
   "cell_type": "code",
   "execution_count": 15,
   "id": "5f526b5b-8175-46fa-a0fd-441767d50e64",
   "metadata": {
    "id": "5f526b5b-8175-46fa-a0fd-441767d50e64"
   },
   "outputs": [
    {
     "data": {
      "text/plain": [
       "0"
      ]
     },
     "execution_count": 15,
     "metadata": {},
     "output_type": "execute_result"
    }
   ],
   "source": [
    "products.duplicated().sum()"
   ]
  },
  {
   "cell_type": "code",
   "execution_count": 16,
   "id": "88daa4f4",
   "metadata": {
    "id": "88daa4f4"
   },
   "outputs": [
    {
     "data": {
      "text/plain": [
       "49673"
      ]
     },
     "execution_count": 16,
     "metadata": {},
     "output_type": "execute_result"
    }
   ],
   "source": [
    "# Revisa únicamente si hay ID de departamentos duplicados\n",
    "products['department_id'].duplicated().sum()"
   ]
  },
  {
   "cell_type": "code",
   "execution_count": 17,
   "id": "c773f0bf",
   "metadata": {
    "id": "c773f0bf"
   },
   "outputs": [
    {
     "data": {
      "text/plain": [
       "1361"
      ]
     },
     "execution_count": 17,
     "metadata": {},
     "output_type": "execute_result"
    }
   ],
   "source": [
    "# Revisa únicamente si hay nombres duplicados de productos (convierte los nombres a letras mayúsculas para compararlos mejor)\n",
    "products['product_name'].str.upper().duplicated().sum()"
   ]
  },
  {
   "cell_type": "code",
   "execution_count": 18,
   "id": "01efd02e",
   "metadata": {
    "id": "01efd02e"
   },
   "outputs": [
    {
     "data": {
      "text/plain": [
       "104"
      ]
     },
     "execution_count": 18,
     "metadata": {},
     "output_type": "execute_result"
    }
   ],
   "source": [
    "# Revisa si hay nombres duplicados de productos no faltantes\n",
    "products['product_name'].dropna().str.upper().duplicated().sum()"
   ]
  },
  {
   "cell_type": "markdown",
   "id": "9da8d293",
   "metadata": {
    "id": "9da8d293"
   },
   "source": [
    "Aquí se revisó si existen elementos duplicados en diferentes columnas del dataset de productos. En la columna de nombre del producto, se tuvo que realizar la modificación de cambiar los nombres a letras mayúsculas para poder así hacer la búsqueda de elementos duplicados."
   ]
  },
  {
   "cell_type": "markdown",
   "id": "60f30db1",
   "metadata": {
    "id": "60f30db1"
   },
   "source": [
    "### `departments` data frame"
   ]
  },
  {
   "cell_type": "code",
   "execution_count": 19,
   "id": "fb410ad4-0fbf-4b80-bb09-23fdea79afe3",
   "metadata": {
    "id": "fb410ad4-0fbf-4b80-bb09-23fdea79afe3"
   },
   "outputs": [
    {
     "data": {
      "text/plain": [
       "0"
      ]
     },
     "execution_count": 19,
     "metadata": {},
     "output_type": "execute_result"
    }
   ],
   "source": [
    "# Revisa si hay filas totalmente duplicadas\n",
    "departments.duplicated().sum()"
   ]
  },
  {
   "cell_type": "code",
   "execution_count": 20,
   "id": "332b12bb",
   "metadata": {
    "id": "332b12bb"
   },
   "outputs": [
    {
     "data": {
      "text/plain": [
       "0"
      ]
     },
     "execution_count": 20,
     "metadata": {},
     "output_type": "execute_result"
    }
   ],
   "source": [
    "# Revisa únicamente si hay IDs duplicadas de productos\n",
    "departments['department_id'].duplicated().sum()"
   ]
  },
  {
   "cell_type": "markdown",
   "id": "bd30d78e",
   "metadata": {
    "id": "bd30d78e"
   },
   "source": [
    "Se buscaron datos duplicados en el dataset de departamentos para eliminarlos en caso de su existencia, pero no fue necesario ya que en ambos casos no hubo ningún dato duplicado."
   ]
  },
  {
   "cell_type": "markdown",
   "id": "889349c1",
   "metadata": {
    "id": "889349c1"
   },
   "source": [
    "### `aisles` data frame"
   ]
  },
  {
   "cell_type": "code",
   "execution_count": 21,
   "id": "9da89fb9-4679-40f5-ad0d-c34df753a3f8",
   "metadata": {
    "id": "9da89fb9-4679-40f5-ad0d-c34df753a3f8"
   },
   "outputs": [
    {
     "data": {
      "text/plain": [
       "0"
      ]
     },
     "execution_count": 21,
     "metadata": {},
     "output_type": "execute_result"
    }
   ],
   "source": [
    "aisles.duplicated().sum()"
   ]
  },
  {
   "cell_type": "code",
   "execution_count": 22,
   "id": "da7c2822",
   "metadata": {
    "id": "da7c2822"
   },
   "outputs": [
    {
     "data": {
      "text/plain": [
       "0"
      ]
     },
     "execution_count": 22,
     "metadata": {},
     "output_type": "execute_result"
    }
   ],
   "source": [
    "# Revisa únicamente si hay IDs duplicadas de productos\n",
    "aisles['aisle_id'].duplicated().sum()"
   ]
  },
  {
   "cell_type": "markdown",
   "id": "ac63826f",
   "metadata": {
    "id": "ac63826f"
   },
   "source": [
    "Describe brevemente tus hallazgos y lo que hiciste con ellos."
   ]
  },
  {
   "cell_type": "markdown",
   "id": "274cd06a",
   "metadata": {
    "id": "274cd06a"
   },
   "source": [
    "### `order_products` data frame"
   ]
  },
  {
   "cell_type": "code",
   "execution_count": 23,
   "id": "52326689-84a8-4b8f-a881-7c68780f62c9",
   "metadata": {
    "id": "52326689-84a8-4b8f-a881-7c68780f62c9"
   },
   "outputs": [
    {
     "data": {
      "text/plain": [
       "0"
      ]
     },
     "execution_count": 23,
     "metadata": {},
     "output_type": "execute_result"
    }
   ],
   "source": [
    "# Revisa si hay filas totalmente duplicadas\n",
    "order_products.duplicated().sum()"
   ]
  },
  {
   "cell_type": "code",
   "execution_count": 24,
   "id": "7b861391",
   "metadata": {
    "id": "7b861391"
   },
   "outputs": [
    {
     "data": {
      "text/html": [
       "<div>\n",
       "<style scoped>\n",
       "    .dataframe tbody tr th:only-of-type {\n",
       "        vertical-align: middle;\n",
       "    }\n",
       "\n",
       "    .dataframe tbody tr th {\n",
       "        vertical-align: top;\n",
       "    }\n",
       "\n",
       "    .dataframe thead th {\n",
       "        text-align: right;\n",
       "    }\n",
       "</style>\n",
       "<table border=\"1\" class=\"dataframe\">\n",
       "  <thead>\n",
       "    <tr style=\"text-align: right;\">\n",
       "      <th></th>\n",
       "      <th>order_id</th>\n",
       "      <th>product_id</th>\n",
       "      <th>add_to_cart_order</th>\n",
       "      <th>reordered</th>\n",
       "    </tr>\n",
       "  </thead>\n",
       "  <tbody>\n",
       "  </tbody>\n",
       "</table>\n",
       "</div>"
      ],
      "text/plain": [
       "Empty DataFrame\n",
       "Columns: [order_id, product_id, add_to_cart_order, reordered]\n",
       "Index: []"
      ]
     },
     "execution_count": 24,
     "metadata": {},
     "output_type": "execute_result"
    }
   ],
   "source": [
    "# Vuelve a verificar si hay cualquier otro duplicado engañoso\n",
    "duplicated = order_products[order_products.duplicated()]\n",
    "duplicated"
   ]
  },
  {
   "cell_type": "markdown",
   "id": "0b890492",
   "metadata": {
    "id": "0b890492"
   },
   "source": [
    "Describe brevemente tus hallazgos y lo que hiciste con ellos."
   ]
  },
  {
   "cell_type": "markdown",
   "id": "1e46de76",
   "metadata": {
    "id": "1e46de76"
   },
   "source": [
    "## Encuentra y elimina los valores ausentes\n",
    "\n",
    "Al trabajar con valores duplicados, pudimos observar que también nos falta investigar valores ausentes:\n",
    "\n",
    "* La columna `'product_name'` de la tabla products.\n",
    "* La columna `'days_since_prior_order'` de la tabla orders.\n",
    "* La columna `'add_to_cart_order'` de la tabla order_productos."
   ]
  },
  {
   "cell_type": "markdown",
   "id": "c0aebd78",
   "metadata": {
    "id": "c0aebd78"
   },
   "source": [
    "### `products` data frame"
   ]
  },
  {
   "cell_type": "code",
   "execution_count": 25,
   "id": "fe4a8b0f",
   "metadata": {
    "id": "fe4a8b0f"
   },
   "outputs": [
    {
     "data": {
      "text/plain": [
       "1258"
      ]
     },
     "execution_count": 25,
     "metadata": {},
     "output_type": "execute_result"
    }
   ],
   "source": [
    "# Encuentra los valores ausentes en la columna 'product_name'\n",
    "products['product_name'].isna().sum()"
   ]
  },
  {
   "cell_type": "markdown",
   "id": "-A6x1AbJhjkp",
   "metadata": {
    "id": "-A6x1AbJhjkp"
   },
   "source": [
    "Utilicé .isna() para poder encontrar los valores ausentes y .sum()."
   ]
  },
  {
   "cell_type": "code",
   "execution_count": 26,
   "id": "e96167bc",
   "metadata": {
    "id": "e96167bc"
   },
   "outputs": [
    {
     "data": {
      "text/html": [
       "<div>\n",
       "<style scoped>\n",
       "    .dataframe tbody tr th:only-of-type {\n",
       "        vertical-align: middle;\n",
       "    }\n",
       "\n",
       "    .dataframe tbody tr th {\n",
       "        vertical-align: top;\n",
       "    }\n",
       "\n",
       "    .dataframe thead th {\n",
       "        text-align: right;\n",
       "    }\n",
       "</style>\n",
       "<table border=\"1\" class=\"dataframe\">\n",
       "  <thead>\n",
       "    <tr style=\"text-align: right;\">\n",
       "      <th></th>\n",
       "      <th>product_id</th>\n",
       "      <th>product_name</th>\n",
       "      <th>aisle_id</th>\n",
       "      <th>department_id</th>\n",
       "    </tr>\n",
       "  </thead>\n",
       "  <tbody>\n",
       "    <tr>\n",
       "      <th>37</th>\n",
       "      <td>38</td>\n",
       "      <td>NaN</td>\n",
       "      <td>100</td>\n",
       "      <td>21</td>\n",
       "    </tr>\n",
       "    <tr>\n",
       "      <th>71</th>\n",
       "      <td>72</td>\n",
       "      <td>NaN</td>\n",
       "      <td>100</td>\n",
       "      <td>21</td>\n",
       "    </tr>\n",
       "    <tr>\n",
       "      <th>109</th>\n",
       "      <td>110</td>\n",
       "      <td>NaN</td>\n",
       "      <td>100</td>\n",
       "      <td>21</td>\n",
       "    </tr>\n",
       "    <tr>\n",
       "      <th>296</th>\n",
       "      <td>297</td>\n",
       "      <td>NaN</td>\n",
       "      <td>100</td>\n",
       "      <td>21</td>\n",
       "    </tr>\n",
       "    <tr>\n",
       "      <th>416</th>\n",
       "      <td>417</td>\n",
       "      <td>NaN</td>\n",
       "      <td>100</td>\n",
       "      <td>21</td>\n",
       "    </tr>\n",
       "    <tr>\n",
       "      <th>...</th>\n",
       "      <td>...</td>\n",
       "      <td>...</td>\n",
       "      <td>...</td>\n",
       "      <td>...</td>\n",
       "    </tr>\n",
       "    <tr>\n",
       "      <th>49552</th>\n",
       "      <td>49553</td>\n",
       "      <td>NaN</td>\n",
       "      <td>100</td>\n",
       "      <td>21</td>\n",
       "    </tr>\n",
       "    <tr>\n",
       "      <th>49574</th>\n",
       "      <td>49575</td>\n",
       "      <td>NaN</td>\n",
       "      <td>100</td>\n",
       "      <td>21</td>\n",
       "    </tr>\n",
       "    <tr>\n",
       "      <th>49640</th>\n",
       "      <td>49641</td>\n",
       "      <td>NaN</td>\n",
       "      <td>100</td>\n",
       "      <td>21</td>\n",
       "    </tr>\n",
       "    <tr>\n",
       "      <th>49663</th>\n",
       "      <td>49664</td>\n",
       "      <td>NaN</td>\n",
       "      <td>100</td>\n",
       "      <td>21</td>\n",
       "    </tr>\n",
       "    <tr>\n",
       "      <th>49668</th>\n",
       "      <td>49669</td>\n",
       "      <td>NaN</td>\n",
       "      <td>100</td>\n",
       "      <td>21</td>\n",
       "    </tr>\n",
       "  </tbody>\n",
       "</table>\n",
       "<p>1258 rows × 4 columns</p>\n",
       "</div>"
      ],
      "text/plain": [
       "       product_id product_name  aisle_id  department_id\n",
       "37             38          NaN       100             21\n",
       "71             72          NaN       100             21\n",
       "109           110          NaN       100             21\n",
       "296           297          NaN       100             21\n",
       "416           417          NaN       100             21\n",
       "...           ...          ...       ...            ...\n",
       "49552       49553          NaN       100             21\n",
       "49574       49575          NaN       100             21\n",
       "49640       49641          NaN       100             21\n",
       "49663       49664          NaN       100             21\n",
       "49668       49669          NaN       100             21\n",
       "\n",
       "[1258 rows x 4 columns]"
      ]
     },
     "execution_count": 26,
     "metadata": {},
     "output_type": "execute_result"
    }
   ],
   "source": [
    "#  ¿Todos los nombres de productos ausentes están relacionados con el pasillo con ID 100?\n",
    "missing_products = products[products['product_name'].isna() & (products['aisle_id'] == 100)]\n",
    "missing_products"
   ]
  },
  {
   "cell_type": "markdown",
   "id": "WRpIfXRphpSL",
   "metadata": {
    "id": "WRpIfXRphpSL"
   },
   "source": [
    "Existen productos en el dataset products que tienen valores ausentes en la columna product_name."
   ]
  },
  {
   "cell_type": "code",
   "execution_count": 27,
   "id": "8fd0a541",
   "metadata": {
    "id": "8fd0a541"
   },
   "outputs": [
    {
     "data": {
      "text/plain": [
       "True"
      ]
     },
     "execution_count": 27,
     "metadata": {},
     "output_type": "execute_result"
    }
   ],
   "source": [
    "# ¿Todos los nombres de productos ausentes están relacionados con el departamento con ID 21?\n",
    "all_related_to_dept_21 = products[products['product_name'].isna()]['department_id'].eq(21).all()\n",
    "\n",
    "all_related_to_dept_21"
   ]
  },
  {
   "cell_type": "markdown",
   "id": "qDpdYn1Fht_I",
   "metadata": {
    "id": "qDpdYn1Fht_I"
   },
   "source": [
    "Al verificar los productos con nombres ausentes, se encuentra que todos ellos están relacionados con el departamento con ID 21 si el resultado es True."
   ]
  },
  {
   "cell_type": "code",
   "execution_count": 28,
   "id": "325c3464",
   "metadata": {
    "id": "325c3464"
   },
   "outputs": [
    {
     "data": {
      "text/plain": [
       "(    aisle_id    aisle\n",
       " 99       100  missing,\n",
       "     department_id department\n",
       " 20             21    missing)"
      ]
     },
     "execution_count": 28,
     "metadata": {},
     "output_type": "execute_result"
    }
   ],
   "source": [
    "# Usa las tablas department y aisle para revisar los datos del pasillo con ID 100 y el departamento con ID 21.\n",
    "# Revisar los datos del pasillo con ID 100\n",
    "aisle_100_data = aisles[aisles['aisle_id'] == 100]\n",
    "\n",
    "# Revisar los datos del departamento con ID 21\n",
    "department_21_data = departments[departments['department_id'] == 21]\n",
    "\n",
    "# Mostrar los datos del pasillo con ID 100 y del departamento con ID 21\n",
    "aisle_100_data, department_21_data"
   ]
  },
  {
   "cell_type": "markdown",
   "id": "nqhSTUPhhvEJ",
   "metadata": {
    "id": "nqhSTUPhhvEJ"
   },
   "source": [
    "Al revisar la tabla aisles para el pasillo con ID 100, deberías encontrar información específica sobre este pasillo, como su nombre o descripción.Al revisar la tabla departments para el departamento con ID 21, deberías encontrar información específica sobre este departamento, como su nombre o descripción."
   ]
  },
  {
   "cell_type": "code",
   "execution_count": 29,
   "id": "6b295120",
   "metadata": {
    "id": "6b295120"
   },
   "outputs": [
    {
     "data": {
      "text/html": [
       "<div>\n",
       "<style scoped>\n",
       "    .dataframe tbody tr th:only-of-type {\n",
       "        vertical-align: middle;\n",
       "    }\n",
       "\n",
       "    .dataframe tbody tr th {\n",
       "        vertical-align: top;\n",
       "    }\n",
       "\n",
       "    .dataframe thead th {\n",
       "        text-align: right;\n",
       "    }\n",
       "</style>\n",
       "<table border=\"1\" class=\"dataframe\">\n",
       "  <thead>\n",
       "    <tr style=\"text-align: right;\">\n",
       "      <th></th>\n",
       "      <th>product_id</th>\n",
       "      <th>product_name</th>\n",
       "      <th>aisle_id</th>\n",
       "      <th>department_id</th>\n",
       "    </tr>\n",
       "  </thead>\n",
       "  <tbody>\n",
       "    <tr>\n",
       "      <th>37</th>\n",
       "      <td>38</td>\n",
       "      <td>Unknown</td>\n",
       "      <td>100</td>\n",
       "      <td>21</td>\n",
       "    </tr>\n",
       "    <tr>\n",
       "      <th>71</th>\n",
       "      <td>72</td>\n",
       "      <td>Unknown</td>\n",
       "      <td>100</td>\n",
       "      <td>21</td>\n",
       "    </tr>\n",
       "    <tr>\n",
       "      <th>109</th>\n",
       "      <td>110</td>\n",
       "      <td>Unknown</td>\n",
       "      <td>100</td>\n",
       "      <td>21</td>\n",
       "    </tr>\n",
       "    <tr>\n",
       "      <th>296</th>\n",
       "      <td>297</td>\n",
       "      <td>Unknown</td>\n",
       "      <td>100</td>\n",
       "      <td>21</td>\n",
       "    </tr>\n",
       "    <tr>\n",
       "      <th>416</th>\n",
       "      <td>417</td>\n",
       "      <td>Unknown</td>\n",
       "      <td>100</td>\n",
       "      <td>21</td>\n",
       "    </tr>\n",
       "  </tbody>\n",
       "</table>\n",
       "</div>"
      ],
      "text/plain": [
       "     product_id product_name  aisle_id  department_id\n",
       "37           38      Unknown       100             21\n",
       "71           72      Unknown       100             21\n",
       "109         110      Unknown       100             21\n",
       "296         297      Unknown       100             21\n",
       "416         417      Unknown       100             21"
      ]
     },
     "execution_count": 29,
     "metadata": {},
     "output_type": "execute_result"
    }
   ],
   "source": [
    "# Completa los nombres de productos ausentes con 'Unknown'\n",
    "# Completar los nombres de productos ausentes con 'Unknown'\n",
    "products['product_name'].fillna('Unknown', inplace=True)\n",
    "\n",
    "# Verificar que los valores ausentes han sido completados\n",
    "products[products['product_name'] == 'Unknown'].head()"
   ]
  },
  {
   "cell_type": "markdown",
   "id": "fc70e5ad",
   "metadata": {
    "id": "fc70e5ad"
   },
   "source": [
    "Al ejecutar este proceso, hemos asegurado que todos los productos en el dataset tienen un nombre. Aquellos que inicialmente tenían un valor ausente ahora tienen el nombre \"Unknown\""
   ]
  },
  {
   "cell_type": "markdown",
   "id": "7eb45c86",
   "metadata": {
    "id": "7eb45c86"
   },
   "source": [
    "### `orders` data frame"
   ]
  },
  {
   "cell_type": "code",
   "execution_count": 30,
   "id": "93e41d96",
   "metadata": {
    "id": "93e41d96"
   },
   "outputs": [
    {
     "data": {
      "text/plain": [
       "order_id                      0\n",
       "user_id                       0\n",
       "order_number                  0\n",
       "order_dow                     0\n",
       "order_hour_of_day             0\n",
       "days_since_prior_order    28817\n",
       "dtype: int64"
      ]
     },
     "execution_count": 30,
     "metadata": {},
     "output_type": "execute_result"
    }
   ],
   "source": [
    "# Encuentra los valores ausentes\n",
    "instacart_orders.isna().sum()"
   ]
  },
  {
   "cell_type": "code",
   "execution_count": 31,
   "id": "166e5a86",
   "metadata": {
    "id": "166e5a86"
   },
   "outputs": [
    {
     "data": {
      "text/html": [
       "<div>\n",
       "<style scoped>\n",
       "    .dataframe tbody tr th:only-of-type {\n",
       "        vertical-align: middle;\n",
       "    }\n",
       "\n",
       "    .dataframe tbody tr th {\n",
       "        vertical-align: top;\n",
       "    }\n",
       "\n",
       "    .dataframe thead th {\n",
       "        text-align: right;\n",
       "    }\n",
       "</style>\n",
       "<table border=\"1\" class=\"dataframe\">\n",
       "  <thead>\n",
       "    <tr style=\"text-align: right;\">\n",
       "      <th></th>\n",
       "      <th>order_id</th>\n",
       "      <th>user_id</th>\n",
       "      <th>order_number</th>\n",
       "      <th>order_dow</th>\n",
       "      <th>order_hour_of_day</th>\n",
       "      <th>days_since_prior_order</th>\n",
       "    </tr>\n",
       "  </thead>\n",
       "  <tbody>\n",
       "  </tbody>\n",
       "</table>\n",
       "</div>"
      ],
      "text/plain": [
       "Empty DataFrame\n",
       "Columns: [order_id, user_id, order_number, order_dow, order_hour_of_day, days_since_prior_order]\n",
       "Index: []"
      ]
     },
     "execution_count": 31,
     "metadata": {},
     "output_type": "execute_result"
    }
   ],
   "source": [
    "# ¿Hay algún valor ausente que no sea el primer pedido del cliente?\n",
    "# Verificar si hay algún valor ausente en 'days_since_prior_order' que no sea el primer pedido del cliente\n",
    "non_first_order_with_missing_value = instacart_orders[instacart_orders['days_since_prior_order'].isna() & (instacart_orders['order_number'] != 1)]\n",
    "\n",
    "# Mostrar el resultado\n",
    "non_first_order_with_missing_value.head()"
   ]
  },
  {
   "cell_type": "markdown",
   "id": "4e23d089",
   "metadata": {
    "id": "4e23d089"
   },
   "source": [
    "Si ejecutas el código y obtienes filas en el resultado, significa que hay inconsistencias en los datos, ya que days_since_prior_order debería estar ausente solo para el primer pedido de cada cliente. Si no hay filas en el resultado, los datos son consistentes respecto a esta condición."
   ]
  },
  {
   "cell_type": "markdown",
   "id": "69dc9ca4",
   "metadata": {
    "id": "69dc9ca4"
   },
   "source": [
    "### `order_products` data frame"
   ]
  },
  {
   "cell_type": "code",
   "execution_count": 32,
   "id": "b8240253",
   "metadata": {
    "id": "b8240253"
   },
   "outputs": [
    {
     "data": {
      "text/plain": [
       "order_id               0\n",
       "product_id             0\n",
       "add_to_cart_order    836\n",
       "reordered              0\n",
       "dtype: int64"
      ]
     },
     "execution_count": 32,
     "metadata": {},
     "output_type": "execute_result"
    }
   ],
   "source": [
    "# Encuentra los valores ausentes\n",
    "order_products.isna().sum()"
   ]
  },
  {
   "cell_type": "code",
   "execution_count": 33,
   "id": "9a78e5ee",
   "metadata": {
    "id": "9a78e5ee"
   },
   "outputs": [
    {
     "data": {
      "text/plain": [
       "1.0"
      ]
     },
     "execution_count": 33,
     "metadata": {},
     "output_type": "execute_result"
    }
   ],
   "source": [
    "# ¿Cuáles son los valores mínimos y máximos en esta columna?\n",
    "order_products['add_to_cart_order'].min().max()"
   ]
  },
  {
   "cell_type": "markdown",
   "id": "-Z2Ja215jW78",
   "metadata": {
    "id": "-Z2Ja215jW78"
   },
   "source": [
    "Se volvió a utilizar .isna() y .sum() para ver cuántos valores ausentes tiene el DataFrame order_products. Se comprobó que efectivamente es la columna add_to_cart_order. A esta misma columna se le ejecutó .min() y .max() para ver sus valores máximos y mínimos."
   ]
  },
  {
   "cell_type": "code",
   "execution_count": 34,
   "id": "ab9d0c2b",
   "metadata": {
    "id": "ab9d0c2b"
   },
   "outputs": [
    {
     "data": {
      "text/plain": [
       "737      2449164\n",
       "9926     1968313\n",
       "14394    2926893\n",
       "16418    1717990\n",
       "30114    1959075\n",
       "Name: order_id, dtype: int64"
      ]
     },
     "execution_count": 34,
     "metadata": {},
     "output_type": "execute_result"
    }
   ],
   "source": [
    "# Guardar todas las IDs de pedidos que tengan un valor ausente en 'add_to_cart_order'\n",
    "order_ids = order_products[order_products['add_to_cart_order'].isna()]['order_id']\n",
    "order_ids.head()"
   ]
  },
  {
   "cell_type": "code",
   "execution_count": 35,
   "id": "54c31695",
   "metadata": {
    "id": "54c31695"
   },
   "outputs": [
    {
     "data": {
      "text/plain": [
       "(1,\n",
       " order_id\n",
       " 9310       1\n",
       " 61355     63\n",
       " 102236    31\n",
       " 129627     5\n",
       " 165801     6\n",
       " Name: product_id, dtype: int64)"
      ]
     },
     "execution_count": 35,
     "metadata": {},
     "output_type": "execute_result"
    }
   ],
   "source": [
    "# ¿Todos los pedidos con valores ausentes tienen más de 64 productos?\n",
    "# Agrupa todos los pedidos con datos ausentes por su ID de pedido.\n",
    "# Cuenta el número de 'product_id' en cada pedido y revisa el valor mínimo del conteo.\n",
    "# Filtrar los pedidos con valores ausentes en 'add_to_cart_order'\n",
    "orders_with_missing_add_to_cart_order = order_products[order_products['add_to_cart_order'].isna()]\n",
    "\n",
    "# Agrupar los pedidos con datos ausentes por su ID de pedido y contar el número de 'product_id' en cada pedido\n",
    "product_count_per_order = orders_with_missing_add_to_cart_order.groupby('order_id')['product_id'].count()\n",
    "\n",
    "# Revisar el valor mínimo del conteo\n",
    "min_product_count = product_count_per_order.min()\n",
    "\n",
    "min_product_count, product_count_per_order.head()"
   ]
  },
  {
   "cell_type": "markdown",
   "id": "p9V6pddtjglj",
   "metadata": {
    "id": "p9V6pddtjglj"
   },
   "source": [
    "Se identificaron pedidos en los que la columna add_to_cart_order tiene valores ausentes.Los pedidos con valores ausentes en add_to_cart_order fueron agrupados por ID de pedido. Se contó el número de product_id en cada pedido con datos ausentes y al final se revisó el valor mínimo del conteo de productos en estos pedidos para determinar si todos los pedidos con valores ausentes tienen más de 64 productos."
   ]
  },
  {
   "cell_type": "code",
   "execution_count": 36,
   "id": "7a987d08",
   "metadata": {
    "id": "7a987d08"
   },
   "outputs": [
    {
     "data": {
      "text/html": [
       "<div>\n",
       "<style scoped>\n",
       "    .dataframe tbody tr th:only-of-type {\n",
       "        vertical-align: middle;\n",
       "    }\n",
       "\n",
       "    .dataframe tbody tr th {\n",
       "        vertical-align: top;\n",
       "    }\n",
       "\n",
       "    .dataframe thead th {\n",
       "        text-align: right;\n",
       "    }\n",
       "</style>\n",
       "<table border=\"1\" class=\"dataframe\">\n",
       "  <thead>\n",
       "    <tr style=\"text-align: right;\">\n",
       "      <th></th>\n",
       "      <th>order_id</th>\n",
       "      <th>product_id</th>\n",
       "      <th>add_to_cart_order</th>\n",
       "      <th>reordered</th>\n",
       "    </tr>\n",
       "  </thead>\n",
       "  <tbody>\n",
       "    <tr>\n",
       "      <th>0</th>\n",
       "      <td>2141543</td>\n",
       "      <td>11440</td>\n",
       "      <td>17</td>\n",
       "      <td>0</td>\n",
       "    </tr>\n",
       "    <tr>\n",
       "      <th>1</th>\n",
       "      <td>567889</td>\n",
       "      <td>1560</td>\n",
       "      <td>1</td>\n",
       "      <td>1</td>\n",
       "    </tr>\n",
       "    <tr>\n",
       "      <th>2</th>\n",
       "      <td>2261212</td>\n",
       "      <td>26683</td>\n",
       "      <td>1</td>\n",
       "      <td>1</td>\n",
       "    </tr>\n",
       "    <tr>\n",
       "      <th>3</th>\n",
       "      <td>491251</td>\n",
       "      <td>8670</td>\n",
       "      <td>35</td>\n",
       "      <td>1</td>\n",
       "    </tr>\n",
       "    <tr>\n",
       "      <th>4</th>\n",
       "      <td>2571142</td>\n",
       "      <td>1940</td>\n",
       "      <td>5</td>\n",
       "      <td>1</td>\n",
       "    </tr>\n",
       "  </tbody>\n",
       "</table>\n",
       "</div>"
      ],
      "text/plain": [
       "   order_id  product_id  add_to_cart_order  reordered\n",
       "0   2141543       11440                 17          0\n",
       "1    567889        1560                  1          1\n",
       "2   2261212       26683                  1          1\n",
       "3    491251        8670                 35          1\n",
       "4   2571142        1940                  5          1"
      ]
     },
     "execution_count": 36,
     "metadata": {},
     "output_type": "execute_result"
    }
   ],
   "source": [
    "# Remplaza los valores ausentes en la columna 'add_to_cart? con 999 y convierte la columna al tipo entero.\n",
    "order_products['add_to_cart_order'].fillna(999, inplace=True)\n",
    "\n",
    "# Convertir la columna 'add_to_cart_order' al tipo entero\n",
    "order_products['add_to_cart_order'] = order_products['add_to_cart_order'].astype(int)\n",
    "\n",
    "# Verificar los cambios\n",
    "order_products.head()"
   ]
  },
  {
   "cell_type": "markdown",
   "id": "fea4bcc7",
   "metadata": {
    "id": "fea4bcc7"
   },
   "source": [
    "Todos los valores ausentes en la columna add_to_cart_order fueron reemplazados con 999.La columna add_to_cart_order ahora contiene únicamente valores enteros."
   ]
  },
  {
   "cell_type": "markdown",
   "id": "RnplPFY1gSrb",
   "metadata": {
    "id": "RnplPFY1gSrb"
   },
   "source": [
    "## Conclusiones\n",
    "\n",
    "En general, todo lo que se realizó fue eliminar todos los datos ausentes y duplicados, ya que había varios en los diferentes DataFrames. Después de esto, se procedió a eliminarlos con el fin de poder leer mejor los datos en el futuro y obtener mejores resultados. Prácticamente, se limpiaron los datos para poder realizar análisis.\n"
   ]
  },
  {
   "cell_type": "markdown",
   "id": "UjrOIwTcz3ri",
   "metadata": {
    "id": "UjrOIwTcz3ri"
   },
   "source": [
    "# Paso 3. Análisis de los datos\n",
    "\n",
    "Problemas de Calidad de Datos: La presencia de nombres de productos duplicados y ausentes, así como inconsistencias en los pedidos, destacan la necesidad de mejorar los procesos de entrada y verificación de datos.\n",
    "Análisis Específico por Categoría: La revisión de pasillos y departamentos sugiere que algunos problemas de calidad de datos pueden estar concentrados en categorías específicas de productos, como el departamento con ID 21.\n",
    "Corrección de Datos: Reemplazar valores ausentes con valores predeterminados (como 999) y asegurar que los tipos de datos sean consistentes ayuda a preparar los datos para análisis futuros sin problemas.\n",
    "Este análisis subraya la importancia de la limpieza y verificación de datos en proyectos de análisis de datos, especialmente cuando se trabaja con grandes volúmenes de información y múltiples categorías de productos. Mejorar la calidad de los datos no solo facilita análisis más precisos, sino que también contribuye a la toma de decisiones más informada y eficiente."
   ]
  },
  {
   "cell_type": "markdown",
   "id": "turkish-kidney",
   "metadata": {
    "id": "turkish-kidney"
   },
   "source": [
    "# [A] Fácil (deben completarse todos para aprobar)\n",
    "\n",
    "1. Verifica que los valores en las columnas `'order_hour_of_day'` y `'order_dow'` en la tabla orders sean razonables (es decir, `'order_hour_of_day'` oscile entre 0 y 23 y `'order_dow'` oscile entre 0 y 6).\n",
    "2. Crea un gráfico que muestre el número de personas que hacen pedidos dependiendo de la hora del día.\n",
    "3. Crea un gráfico que muestre qué día de la semana la gente hace sus compras.\n",
    "4. Crea un gráfico que muestre el tiempo que la gente espera hasta hacer su siguiente pedido, y comenta sobre los valores mínimos y máximos."
   ]
  },
  {
   "cell_type": "markdown",
   "id": "short-capability",
   "metadata": {
    "id": "short-capability"
   },
   "source": [
    "### [A1] Verifica que los valores sean sensibles"
   ]
  },
  {
   "cell_type": "code",
   "execution_count": 37,
   "id": "growing-fruit",
   "metadata": {
    "id": "growing-fruit"
   },
   "outputs": [
    {
     "data": {
      "text/plain": [
       "(True, True)"
      ]
     },
     "execution_count": 37,
     "metadata": {},
     "output_type": "execute_result"
    }
   ],
   "source": [
    "# Verificar que los valores en 'order_hour_of_day' estén entre 0 y 23\n",
    "valid_order_hour = instacart_orders['order_hour_of_day'].between(0, 23)\n",
    "\n",
    "# Verificar que los valores en 'order_dow' estén entre 0 y 6\n",
    "valid_order_dow = instacart_orders['order_dow'].between(0, 6)\n",
    "\n",
    "# Verificar si todos los valores son válidos\n",
    "all_valid_order_hour = valid_order_hour.all()\n",
    "all_valid_order_dow = valid_order_dow.all()\n",
    "\n",
    "all_valid_order_hour, all_valid_order_dow"
   ]
  },
  {
   "cell_type": "markdown",
   "id": "hmR2GNQ6lCsX",
   "metadata": {
    "id": "hmR2GNQ6lCsX"
   },
   "source": [
    "Al verificar los datos, se confirmó que todos los valores en esta columna están dentro del rango esperado. Los valores en order_hour_of_day son razonables y reflejan horas válidas del día.Al revisar los datos, se encontró que todos los valores en esta columna están dentro del rango esperado. Los valores en order_dow son razonables y reflejan días válidos de la semana.Las columnas order_hour_of_day y order_dow contienen datos consistentes y dentro de los rangos esperados, lo que indica una buena calidad de los datos en estas columnas.No se encontraron valores fuera de los rangos razonables, lo que confirma que los datos son sensibles y pueden ser utilizados para análisis posteriores sin necesidad de correcciones adicionales en estas columnas."
   ]
  },
  {
   "cell_type": "markdown",
   "id": "a6743a70",
   "metadata": {
    "id": "a6743a70"
   },
   "source": [
    "### [A2] Para cada hora del día, ¿cuántas personas hacen órdenes?"
   ]
  },
  {
   "cell_type": "code",
   "execution_count": 38,
   "id": "a36cca27",
   "metadata": {
    "id": "a36cca27"
   },
   "outputs": [
    {
     "data": {
      "image/png": "[encoded data removed]",
      "text/plain": [
       "<Figure size 1000x600 with 1 Axes>"
      ]
     },
     "metadata": {},
     "output_type": "display_data"
    }
   ],
   "source": [
    "# Contar el número de personas que hacen pedidos dependiendo de la hora del día\n",
    "orders_per_hour = instacart_orders.groupby('order_hour_of_day')['user_id'].nunique()\n",
    "\n",
    "# Crear el gráfico\n",
    "plt.figure(figsize=(10, 6))\n",
    "orders_per_hour.plot(kind='bar')\n",
    "plt.xlabel('Hora del Día')\n",
    "plt.ylabel('Número de Personas')\n",
    "plt.title('Número de Personas que Hacen Pedidos por Hora del Día')\n",
    "plt.xticks(rotation=0)\n",
    "plt.grid(axis='y', linestyle='--', alpha=0.7)\n",
    "plt.tight_layout()\n",
    "\n",
    "# Mostrar el gráfico\n",
    "plt.show()"
   ]
  },
  {
   "cell_type": "markdown",
   "id": "11270eed",
   "metadata": {
    "id": "11270eed"
   },
   "source": [
    "El análisis de pedidos por hora del día revela importantes patrones de comportamiento de los usuarios, que son cruciales para mejorar la eficiencia operativa y la satisfacción del cliente. La distribución horaria de los pedidos puede guiar decisiones estratégicas en planificación de recursos y marketing. Se muestra que entre las 11 y 15 hrs del día aumneta el numero de personas que realizan pedidos. "
   ]
  },
  {
   "cell_type": "markdown",
   "id": "documented-command",
   "metadata": {
    "id": "documented-command"
   },
   "source": [
    "### [A3] ¿Qué día de la semana compran víveres las personas?"
   ]
  },
  {
   "cell_type": "code",
   "execution_count": 39,
   "id": "chief-digit",
   "metadata": {
    "id": "chief-digit"
   },
   "outputs": [
    {
     "data": {
      "image/png": "[encoded data removed]",
      "text/plain": [
       "<Figure size 1000x600 with 1 Axes>"
      ]
     },
     "metadata": {},
     "output_type": "display_data"
    }
   ],
   "source": [
    "# Contar el número de personas que hacen pedidos dependiendo del día de la semana\n",
    "orders_per_day = instacart_orders.groupby('order_dow')['user_id'].nunique()\n",
    "\n",
    "# Crear el gráfico\n",
    "plt.figure(figsize=(10, 6))\n",
    "orders_per_day.plot(kind='bar')\n",
    "plt.xlabel('Día de la Semana')\n",
    "plt.ylabel('Número de Personas')\n",
    "plt.title('Número de Personas que Hacen Pedidos por Día de la Semana')\n",
    "plt.xticks(rotation=0)\n",
    "plt.grid(axis='y', linestyle='--', alpha=0.7)\n",
    "plt.tight_layout()\n",
    "\n",
    "# Mostrar el gráfico\n",
    "plt.show()"
   ]
  },
  {
   "cell_type": "markdown",
   "id": "dominant-lightning",
   "metadata": {
    "id": "dominant-lightning"
   },
   "source": [
    "El análisis de pedidos por día de la semana revela importantes patrones de comportamiento de los usuarios, que son cruciales para mejorar la eficiencia operativa y la satisfacción del cliente. La distribución semanal de los pedidos puede guiar decisiones estratégicas en planificación de recursos y marketing. Los días con mayor y menor actividad pueden ser utilizados para optimizar la operación y lanzar campañas promocionales efectivas.  Asi que el día 0, domingo, es el día que mas hacen pedidos. "
   ]
  },
  {
   "cell_type": "markdown",
   "id": "cutting-concert",
   "metadata": {
    "id": "cutting-concert"
   },
   "source": [
    "### [A4] ¿Cuánto tiempo esperan las personas hasta hacer otro pedido? Comenta sobre los valores mínimos y máximos."
   ]
  },
  {
   "cell_type": "code",
   "execution_count": 40,
   "id": "c231f523",
   "metadata": {
    "id": "c231f523"
   },
   "outputs": [
    {
     "data": {
      "image/png": "[encoded data removed]",
      "text/plain": [
       "<Figure size 1000x600 with 1 Axes>"
      ]
     },
     "metadata": {},
     "output_type": "display_data"
    },
    {
     "data": {
      "text/plain": [
       "(0.0, 30.0)"
      ]
     },
     "execution_count": 40,
     "metadata": {},
     "output_type": "execute_result"
    }
   ],
   "source": [
    "# Descartar los valores ausentes en 'days_since_prior_order'\n",
    "days_since_prior_order = instacart_orders['days_since_prior_order'].dropna()\n",
    "\n",
    "# Valores mínimos y máximos\n",
    "min_days = days_since_prior_order.min()\n",
    "max_days = days_since_prior_order.max()\n",
    "\n",
    "# Crear el gráfico\n",
    "plt.figure(figsize=(10, 6))\n",
    "days_since_prior_order.plot(kind='hist', bins=30, edgecolor='black')\n",
    "plt.xlabel('Días desde el Pedido Anterior')\n",
    "plt.ylabel('Frecuencia')\n",
    "plt.title('Distribución del Tiempo Hasta el Siguiente Pedido')\n",
    "plt.grid(axis='y', linestyle='--', alpha=0.7)\n",
    "plt.tight_layout()\n",
    "\n",
    "# Mostrar el gráfico\n",
    "plt.show()\n",
    "\n",
    "min_days, max_days"
   ]
  },
  {
   "cell_type": "markdown",
   "id": "discrete-vertex",
   "metadata": {
    "id": "discrete-vertex"
   },
   "source": [
    "Frecuencia de Pedidos: Los clientes muestran un patrón de tiempo de espera variable antes de hacer su siguiente pedido.\n",
    "Planificación y Marketing: Esta información es valiosa para planificar inventarios y diseñar estrategias de marketing que se alineen con los patrones de comportamiento de los clientes.\n",
    "Este análisis proporciona una visión clara del comportamiento de los clientes en términos de frecuencia de pedidos, lo que puede ser útil para mejorar la gestión de inventarios y optimizar campañas de marketing."
   ]
  },
  {
   "cell_type": "markdown",
   "id": "tight-staff",
   "metadata": {
    "id": "tight-staff"
   },
   "source": [
    "# [B] Intermedio (deben completarse todos para aprobar)\n",
    "\n",
    "1. ¿Existe alguna diferencia entre las distribuciones `'order_hour_of_day'` de los miércoles y los sábados? Traza gráficos de barra de `'order_hour_of_day'` para ambos días en la misma figura y describe las diferencias que observes.\n",
    "2. Grafica la distribución para el número de órdenes que hacen los clientes (es decir, cuántos clientes hicieron solo 1 pedido, cuántos hicieron 2, cuántos 3, y así sucesivamente...).\n",
    "3. ¿Cuáles son los 20 principales productos que se piden con más frecuencia (muestra su identificación y nombre)?"
   ]
  },
  {
   "cell_type": "markdown",
   "id": "packed-classic",
   "metadata": {
    "id": "packed-classic"
   },
   "source": [
    "### [B1] Diferencia entre miércoles y sábados para  `'order_hour_of_day'`. Traza gráficos de barra para los dos días y describe las diferencias que veas."
   ]
  },
  {
   "cell_type": "code",
   "execution_count": 41,
   "id": "d89b8403",
   "metadata": {
    "id": "d89b8403"
   },
   "outputs": [
    {
     "data": {
      "image/png": "[encoded data removed]",
      "text/plain": [
       "<Figure size 1400x700 with 1 Axes>"
      ]
     },
     "metadata": {},
     "output_type": "display_data"
    }
   ],
   "source": [
    "# Filtrar los datos para los miércoles (order_dow == 3) y sábados (order_dow == 6)\n",
    "wednesday_orders = instacart_orders[instacart_orders['order_dow'] == 3]\n",
    "saturday_orders = instacart_orders[instacart_orders['order_dow'] == 6]\n",
    "\n",
    "# Contar el número de pedidos por hora del día para los miércoles y sábados\n",
    "wednesday_hourly_orders = wednesday_orders['order_hour_of_day'].value_counts().sort_index()\n",
    "saturday_hourly_orders = saturday_orders['order_hour_of_day'].value_counts().sort_index()\n",
    "\n",
    "# Crear el gráfico de barras\n",
    "plt.figure(figsize=(14, 7))\n",
    "\n",
    "plt.bar(wednesday_hourly_orders.index - 0.2, wednesday_hourly_orders.values, width=0.4, label='Miércoles')\n",
    "plt.bar(saturday_hourly_orders.index + 0.2, saturday_hourly_orders.values, width=0.4, label='Sábado')\n",
    "\n",
    "plt.xlabel('Hora del Día')\n",
    "plt.ylabel('Número de Pedidos')\n",
    "plt.title('Número de Pedidos por Hora del Día (Miércoles vs Sábado)')\n",
    "plt.xticks(range(24))\n",
    "plt.legend()\n",
    "plt.grid(axis='y', linestyle='--', alpha=0.7)\n",
    "plt.tight_layout()\n",
    "\n",
    "# Mostrar el gráfico\n",
    "plt.show()"
   ]
  },
  {
   "cell_type": "markdown",
   "id": "charitable-congo",
   "metadata": {
    "id": "charitable-congo"
   },
   "source": [
    "El análisis de las diferencias en los patrones de pedidos por hora del día entre los miércoles y los sábados revela comportamientos distintos de los clientes durante la semana laboral y el fin de semana. Los datos sugieren la necesidad de ajustar la planificación de recursos y estrategias de marketing para adaptarse a estos patrones y mejorar la eficiencia operativa y la satisfacción del cliente."
   ]
  },
  {
   "cell_type": "markdown",
   "id": "e3891143",
   "metadata": {
    "id": "e3891143"
   },
   "source": [
    "### [B2] ¿Cuál es la distribución para el número de pedidos por cliente?"
   ]
  },
  {
   "cell_type": "code",
   "execution_count": 42,
   "id": "d8c26c23",
   "metadata": {
    "id": "d8c26c23"
   },
   "outputs": [
    {
     "data": {
      "image/png": "[encoded data removed]",
      "text/plain": [
       "<Figure size 1400x700 with 1 Axes>"
      ]
     },
     "metadata": {},
     "output_type": "display_data"
    },
    {
     "data": {
      "text/plain": [
       "count    157437.000000\n",
       "mean          3.042182\n",
       "std           2.746842\n",
       "min           1.000000\n",
       "25%           1.000000\n",
       "50%           2.000000\n",
       "75%           4.000000\n",
       "max          28.000000\n",
       "Name: user_id, dtype: float64"
      ]
     },
     "execution_count": 42,
     "metadata": {},
     "output_type": "execute_result"
    }
   ],
   "source": [
    "# Contar el número de órdenes por cliente\n",
    "orders_per_customer = instacart_orders['user_id'].value_counts()\n",
    "\n",
    "# Crear el gráfico de barras para la distribución del número de órdenes por cliente\n",
    "plt.figure(figsize=(14, 7))\n",
    "orders_per_customer.plot(kind='hist', bins=range(1, orders_per_customer.max() + 2), edgecolor='black')\n",
    "plt.xlabel('Número de Órdenes')\n",
    "plt.ylabel('Número de Clientes')\n",
    "plt.title('Distribución del Número de Órdenes por Cliente')\n",
    "plt.grid(axis='y', linestyle='--', alpha=0.7)\n",
    "plt.tight_layout()\n",
    "\n",
    "# Mostrar el gráfico\n",
    "plt.show()\n",
    "\n",
    "# Resumen de la distribución\n",
    "orders_per_customer.describe()"
   ]
  },
  {
   "cell_type": "markdown",
   "id": "d2eff7d5",
   "metadata": {
    "id": "d2eff7d5"
   },
   "source": [
    "El análisis de la distribución del número de pedidos por cliente revela que mientras muchos clientes hacen un número moderado de pedidos, hay un segmento significativo que realiza pedidos de manera frecuente. Este conocimiento puede ser utilizado para mejorar las estrategias de marketing, la fidelización de clientes y la planificación operativa, optimizando así la experiencia del cliente y la eficiencia del negocio."
   ]
  },
  {
   "cell_type": "markdown",
   "id": "54a0319c",
   "metadata": {
    "id": "54a0319c"
   },
   "source": [
    "### [B3] ¿Cuáles son los 20 productos más populares (muestra su ID y nombre)?"
   ]
  },
  {
   "cell_type": "code",
   "execution_count": 43,
   "id": "exterior-arizona",
   "metadata": {
    "id": "exterior-arizona",
    "scrolled": true
   },
   "outputs": [
    {
     "name": "stdout",
     "output_type": "stream",
     "text": [
      "    product_id  count              product_name\n",
      "0        24852  66050                    Banana\n",
      "1        13176  53297    Bag of Organic Bananas\n",
      "2        21137  37039      Organic Strawberries\n",
      "3        21903  33971      Organic Baby Spinach\n",
      "4        47209  29773      Organic Hass Avocado\n",
      "5        47766  24689           Organic Avocado\n",
      "6        47626  21495               Large Lemon\n",
      "7        16797  20018              Strawberries\n",
      "8        26209  19690                     Limes\n",
      "9        27845  19600        Organic Whole Milk\n",
      "10       27966  19197       Organic Raspberries\n",
      "11       22935  15898      Organic Yellow Onion\n",
      "12       24964  15292            Organic Garlic\n",
      "13       45007  14584          Organic Zucchini\n",
      "14       39275  13879       Organic Blueberries\n",
      "15       49683  13675            Cucumber Kirby\n",
      "16       28204  12544        Organic Fuji Apple\n",
      "17        5876  12232             Organic Lemon\n",
      "18        8277  11993  Apple Honeycrisp Organic\n",
      "19       40706  11781    Organic Grape Tomatoes\n"
     ]
    }
   ],
   "source": [
    "# Contar el número de veces que cada producto es pedido\n",
    "top_products = order_products['product_id'].value_counts().head(20)\n",
    "\n",
    "# Unir con el dataset de productos para obtener los nombres\n",
    "top_products = top_products.reset_index()\n",
    "top_products.columns = ['product_id', 'count']\n",
    "top_products = top_products.merge(products[['product_id', 'product_name']], on='product_id', how='left')\n",
    "\n",
    "# Mostrar los 20 principales productos\n",
    "print(top_products)"
   ]
  },
  {
   "cell_type": "markdown",
   "id": "74695570",
   "metadata": {
    "id": "d2eff7d5"
   },
   "source": [
    "El análisis de los productos más frecuentemente pedidos proporciona información crucial para la toma de decisiones estratégicas en la gestión de inventarios, marketing y operaciones. Priorizar estos productos en todas las facetas del negocio puede mejorar la eficiencia, aumentar las ventas y mejorar la satisfacción y lealtad del cliente."
   ]
  },
  {
   "cell_type": "markdown",
   "id": "gross-theme",
   "metadata": {
    "id": "gross-theme"
   },
   "source": [
    "# [C] Difícil (deben completarse todos para aprobar)\n",
    "\n",
    "1. ¿Cuántos artículos suelen comprar las personas en un pedido? ¿Cómo es la distribución?\n",
    "2. ¿Cuáles son los 20 principales artículos que vuelven a pedirse con mayor frecuencia (muestra sus nombres e IDs de los productos)?\n",
    "3. Para cada producto, ¿cuál es la tasa de repetición del pedido (número de repeticiones de pedido/total de pedidos?\n",
    "4. Para cada cliente, ¿qué proporción de los productos que pidió ya los había pedido? Calcula la tasa de repetición de pedido para cada usuario en lugar de para cada producto.\n",
    "5. ¿Cuáles son los 20 principales artículos que la gente pone primero en sus carritos (muestra las IDs de los productos, sus nombres, y el número de veces en que fueron el primer artículo en añadirse al carrito)?"
   ]
  },
  {
   "cell_type": "markdown",
   "id": "romantic-deposit",
   "metadata": {
    "id": "romantic-deposit"
   },
   "source": [
    "### [C1] ¿Cuántos artículos compran normalmente las personas en un pedido? ¿Cómo es la distribución?"
   ]
  },
  {
   "cell_type": "code",
   "execution_count": 44,
   "id": "virtual-punch",
   "metadata": {
    "id": "virtual-punch"
   },
   "outputs": [
    {
     "data": {
      "image/png": "[encoded data removed]",
      "text/plain": [
       "<Figure size 1400x700 with 1 Axes>"
      ]
     },
     "metadata": {},
     "output_type": "display_data"
    },
    {
     "name": "stdout",
     "output_type": "stream",
     "text": [
      "count    450046.000000\n",
      "mean         10.098983\n",
      "std           7.540206\n",
      "min           1.000000\n",
      "25%           5.000000\n",
      "50%           8.000000\n",
      "75%          14.000000\n",
      "max         127.000000\n",
      "Name: order_id, dtype: float64\n"
     ]
    }
   ],
   "source": [
    "# Contar el número de artículos por pedido\n",
    "items_per_order = order_products['order_id'].value_counts()\n",
    "\n",
    "# Crear el gráfico de barras para la distribución del número de artículos por pedido\n",
    "plt.figure(figsize=(14, 7))\n",
    "items_per_order.plot(kind='hist', bins=range(1, items_per_order.max() + 2), edgecolor='black')\n",
    "plt.xlabel('Número de Artículos por Pedido')\n",
    "plt.ylabel('Frecuencia')\n",
    "plt.title('Distribución del Número de Artículos por Pedido')\n",
    "plt.grid(axis='y', linestyle='--', alpha=0.7)\n",
    "plt.tight_layout()\n",
    "\n",
    "# Mostrar el gráfico\n",
    "plt.show()\n",
    "\n",
    "# Calcular estadísticas descriptivas\n",
    "print(items_per_order.describe())"
   ]
  },
  {
   "cell_type": "markdown",
   "id": "designed-mortality",
   "metadata": {
    "id": "designed-mortality"
   },
   "source": [
    "El análisis del número de artículos por pedido revela que la mayoría de los clientes tienden a hacer pedidos con un número moderado de artículos, aunque hay una variabilidad significativa. Este conocimiento es crucial para la planificación de inventarios, la optimización de la logística y la mejora de la experiencia del cliente. Adaptar las estrategias de negocio basadas en estos patrones puede llevar a una mayor eficiencia operativa y una mayor satisfacción del cliente."
   ]
  },
  {
   "cell_type": "markdown",
   "id": "5e6b5537",
   "metadata": {
    "id": "5e6b5537"
   },
   "source": [
    "### [C2] ¿Cuáles son los 20 principales artículos que vuelven a pedirse con mayor frecuencia (muestra sus nombres e IDs de los productos)?"
   ]
  },
  {
   "cell_type": "code",
   "execution_count": 45,
   "id": "9374e55a",
   "metadata": {
    "id": "9374e55a"
   },
   "outputs": [
    {
     "name": "stdout",
     "output_type": "stream",
     "text": [
      "    product_id  count              product_name\n",
      "0        24852  55763                    Banana\n",
      "1        13176  44450    Bag of Organic Bananas\n",
      "2        21137  28639      Organic Strawberries\n",
      "3        21903  26233      Organic Baby Spinach\n",
      "4        47209  23629      Organic Hass Avocado\n",
      "5        47766  18743           Organic Avocado\n",
      "6        27845  16251        Organic Whole Milk\n",
      "7        47626  15044               Large Lemon\n",
      "8        27966  14748       Organic Raspberries\n",
      "9        16797  13945              Strawberries\n",
      "10       26209  13327                     Limes\n",
      "11       22935  11145      Organic Yellow Onion\n",
      "12       24964  10411            Organic Garlic\n",
      "13       45007  10076          Organic Zucchini\n",
      "14       49683   9538            Cucumber Kirby\n",
      "15       28204   8989        Organic Fuji Apple\n",
      "16        8277   8836  Apple Honeycrisp Organic\n",
      "17       39275   8799       Organic Blueberries\n",
      "18        5876   8412             Organic Lemon\n",
      "19       49235   8389       Organic Half & Half\n"
     ]
    }
   ],
   "source": [
    "# Filtrar los productos que han sido reordenados\n",
    "reordered_products = order_products[order_products['reordered'] == 1]\n",
    "\n",
    "# Contar el número de veces que cada producto es reordenado\n",
    "top_reordered_products = reordered_products['product_id'].value_counts().head(20)\n",
    "\n",
    "# Unir con el dataset de productos para obtener los nombres\n",
    "top_reordered_products = top_reordered_products.reset_index()\n",
    "top_reordered_products.columns = ['product_id', 'count']\n",
    "top_reordered_products = top_reordered_products.merge(products[['product_id', 'product_name']], on='product_id', how='left')\n",
    "\n",
    "# Mostrar los 20 principales productos reordenados\n",
    "print(top_reordered_products)"
   ]
  },
  {
   "cell_type": "markdown",
   "id": "80e70c74",
   "metadata": {
    "id": "80e70c74"
   },
   "source": [
    "El análisis de los productos más frecuentemente reordenados proporciona información valiosa sobre las preferencias y necesidades recurrentes de los clientes. Priorizar estos productos en la gestión de inventarios y estrategias de marketing puede mejorar significativamente la satisfacción del cliente, la lealtad y las ventas. Este conocimiento permite a la empresa optimizar su cadena de suministro y operar de manera más eficiente."
   ]
  },
  {
   "cell_type": "markdown",
   "id": "9d312b14",
   "metadata": {
    "id": "9d312b14"
   },
   "source": [
    "### [C3] Para cada producto, ¿cuál es la proporción de las veces que se pide y que se vuelve a pedir?"
   ]
  },
  {
   "cell_type": "code",
   "execution_count": 47,
   "id": "8ae9f4b1",
   "metadata": {
    "id": "8ae9f4b1"
   },
   "outputs": [
    {
     "name": "stdout",
     "output_type": "stream",
     "text": [
      "   product_id  reorder_rate                                       product_name\n",
      "0           1      0.564286                         Chocolate Sandwich Cookies\n",
      "1           2           NaN                                   All-Seasons Salt\n",
      "2           3      0.738095               Robust Golden Unsweetened Oolong Tea\n",
      "3           4      0.510204  Smart Ones Classic Favorites Mini Rigatoni Wit...\n",
      "4           7      0.500000                     Pure Coconut Water With Orange\n"
     ]
    }
   ],
   "source": [
    "# Calcular el número total de pedidos para cada producto\n",
    "total_orders_per_product = order_products['product_id'].value_counts()\n",
    "\n",
    "# Calcular el número de repeticiones de pedido para cada producto\n",
    "reorders_per_product = order_products[order_products['reordered'] == 1]['product_id'].value_counts()\n",
    "\n",
    "# Calcular la tasa de repetición del pedido para cada producto\n",
    "reorder_rate_per_product = (reorders_per_product / total_orders_per_product).reset_index()\n",
    "reorder_rate_per_product.columns = ['product_id', 'reorder_rate']\n",
    "\n",
    "# Unir con el dataset de productos para obtener los nombres\n",
    "reorder_rate_per_product = reorder_rate_per_product.merge(products[['product_id', 'product_name']], on='product_id', how='left')\n",
    "\n",
    "# Mostrar las primeras filas del resultado\n",
    "print(reorder_rate_per_product.head())"
   ]
  },
  {
   "cell_type": "markdown",
   "id": "I10dEIAyldcO",
   "metadata": {
    "id": "I10dEIAyldcO"
   },
   "source": [
    "El análisis de la tasa de repetición de pedidos por producto revela cuáles son los productos más populares y frecuentemente comprados por los clientes. Priorizar estos productos en la gestión de inventarios y estrategias de marketing puede mejorar significativamente la satisfacción del cliente, la lealtad y las ventas. Este conocimiento permite a la empresa optimizar su cadena de suministro y operar de manera más eficiente, asegurando que los productos favoritos de los clientes estén siempre disponibles."
   ]
  },
  {
   "cell_type": "markdown",
   "id": "subject-boxing",
   "metadata": {
    "id": "subject-boxing"
   },
   "source": [
    "### [C4] Para cada cliente, ¿qué proporción de sus productos ya los había pedido?"
   ]
  },
  {
   "cell_type": "code",
   "execution_count": 48,
   "id": "medical-couple",
   "metadata": {
    "id": "medical-couple",
    "scrolled": true
   },
   "outputs": [
    {
     "name": "stdout",
     "output_type": "stream",
     "text": [
      "   user_id  reorder_rate\n",
      "0        2      0.038462\n",
      "1        4           NaN\n",
      "2        5      0.666667\n",
      "3        6           NaN\n",
      "4        7      0.928571\n"
     ]
    }
   ],
   "source": [
    "# Unir order_products con instacart_orders para obtener el user_id\n",
    "merged_data = order_products.merge(instacart_orders[['order_id', 'user_id']], on='order_id', how='left')\n",
    "\n",
    "# Calcular el número total de productos pedidos por cada usuario\n",
    "total_products_per_user = merged_data.groupby('user_id')['product_id'].count()\n",
    "\n",
    "# Calcular el número de productos reordenados por cada usuario\n",
    "reordered_products_per_user = merged_data[merged_data['reordered'] == 1].groupby('user_id')['product_id'].count()\n",
    "\n",
    "# Calcular la tasa de repetición de pedido para cada usuario\n",
    "reorder_rate_per_user = (reordered_products_per_user / total_products_per_user).reset_index()\n",
    "reorder_rate_per_user.columns = ['user_id', 'reorder_rate']\n",
    "\n",
    "# Mostrar las primeras filas del resultado\n",
    "print(reorder_rate_per_user.head())"
   ]
  },
  {
   "cell_type": "markdown",
   "id": "BgJSvXDsleXz",
   "metadata": {
    "id": "BgJSvXDsleXz"
   },
   "source": [
    "El análisis de la tasa de repetición de pedido por usuario proporciona una visión clara de los clientes más leales y consistentes en sus hábitos de compra. Priorizar estos usuarios en las estrategias de marketing y gestión de clientes puede mejorar significativamente la satisfacción y la lealtad del cliente, aumentando así las ventas y la eficiencia operativa. Este conocimiento permite a la empresa optimizar sus recursos y enfocarse en mantener a sus clientes más valiosos."
   ]
  },
  {
   "cell_type": "markdown",
   "id": "92d35137",
   "metadata": {
    "id": "92d35137"
   },
   "source": [
    "### [C5] ¿Cuáles son los 20 principales artículos que las personas ponen primero en sus carritos?"
   ]
  },
  {
   "cell_type": "code",
   "execution_count": 49,
   "id": "0ae57274",
   "metadata": {
    "id": "0ae57274",
    "scrolled": true
   },
   "outputs": [
    {
     "name": "stdout",
     "output_type": "stream",
     "text": [
      "    product_id  count                 product_name\n",
      "0        24852  15562                       Banana\n",
      "1        13176  11026       Bag of Organic Bananas\n",
      "2        27845   4363           Organic Whole Milk\n",
      "3        21137   3946         Organic Strawberries\n",
      "4        47209   3390         Organic Hass Avocado\n",
      "5        21903   3336         Organic Baby Spinach\n",
      "6        47766   3044              Organic Avocado\n",
      "7        19660   2336                 Spring Water\n",
      "8        16797   2308                 Strawberries\n",
      "9        27966   2024          Organic Raspberries\n",
      "10       44632   1914   Sparkling Water Grapefruit\n",
      "11       49235   1797          Organic Half & Half\n",
      "12       47626   1737                  Large Lemon\n",
      "13         196   1733                         Soda\n",
      "14       38689   1397     Organic Reduced Fat Milk\n",
      "15       26209   1370                        Limes\n",
      "16       12341   1340                Hass Avocados\n",
      "17        5785   1310  Organic Reduced Fat 2% Milk\n",
      "18       27086   1309                  Half & Half\n",
      "19       22935   1246         Organic Yellow Onion\n"
     ]
    }
   ],
   "source": [
    "# Filtrar los productos que han sido añadidos primero al carrito (add_to_cart_order == 1)\n",
    "first_added_products = order_products[order_products['add_to_cart_order'] == 1]\n",
    "\n",
    "# Contar el número de veces que cada producto es el primero en añadirse al carrito\n",
    "top_first_added_products = first_added_products['product_id'].value_counts().head(20)\n",
    "\n",
    "# Unir con el dataset de productos para obtener los nombres\n",
    "top_first_added_products = top_first_added_products.reset_index()\n",
    "top_first_added_products.columns = ['product_id', 'count']\n",
    "top_first_added_products = top_first_added_products.merge(products[['product_id', 'product_name']], on='product_id', how='left')\n",
    "\n",
    "# Mostrar los 20 principales productos que la gente pone primero en sus carritos\n",
    "print(top_first_added_products)"
   ]
  },
  {
   "cell_type": "markdown",
   "id": "28ce9872",
   "metadata": {
    "id": "28ce9872"
   },
   "source": [
    "El análisis de los principales productos que los clientes añaden primero a sus carritos revela información valiosa sobre las preferencias y necesidades básicas de los consumidores. Priorizar estos productos en la gestión de inventarios y estrategias de marketing puede mejorar significativamente la satisfacción del cliente, la lealtad y las ventas. Este conocimiento permite a la empresa optimizar sus recursos y enfocarse en mantener a sus clientes más valiosos satisfechos y comprometidos."
   ]
  },
  {
   "cell_type": "markdown",
   "id": "uITbFCEoDosC",
   "metadata": {
    "id": "uITbFCEoDosC"
   },
   "source": [
    "### Conclusion general del proyecto:"
   ]
  },
  {
   "cell_type": "markdown",
   "id": "f2c717eb",
   "metadata": {
    "id": "Nk-4GS7mDwqY"
   },
   "source": [
    "Calidad y Consistencia de los Datos:\n",
    "La limpieza y verificación de datos ausentes y duplicados aseguraron la calidad y consistencia de los datos, lo que es crucial para análisis precisos.\n",
    "Patrones de Compra:\n",
    "El análisis de la distribución de pedidos por hora y día de la semana proporcionó una visión clara de los patrones de compra de los clientes, permitiendo una mejor planificación de recursos y estrategias de marketing.\n",
    "Lealtad del Cliente:\n",
    "La identificación de los productos más reordenados y la tasa de repetición de pedidos por usuario destacó la lealtad del cliente, lo que es vital para diseñar programas de fidelización efectivos.\n",
    "Gestión de Inventarios:\n",
    "Conocer los productos prioritarios y los más frecuentemente añadidos al carrito permite una gestión de inventarios más eficiente, asegurando la disponibilidad de productos populares y esenciales.\n",
    "Estrategias de Marketing:\n",
    "Las promociones y ofertas dirigidas basadas en el comportamiento del cliente pueden aumentar la satisfacción del cliente y las ventas.\n",
    "Implicaciones para el Negocio\n",
    "Optimización de la Cadena de Suministro:\n",
    "Mejorar la eficiencia logística y la planificación de inventarios basándose en los patrones de compra y la lealtad del cliente.\n",
    "Estrategias de Fidelización:\n",
    "Diseñar programas de fidelización y recompensas que incentiven la repetición de compras y aumenten la lealtad del cliente.\n",
    "Marketing Personalizado:\n",
    "Utilizar la información sobre los productos prioritarios y los hábitos de compra para crear campañas de marketing más efectivas y personalizadas.\n",
    "Este análisis integral de los datos de Instacart proporciona una base sólida para tomar decisiones informadas que mejoren la eficiencia operativa, aumenten la satisfacción del cliente y optimicen las estrategias de marketing."
   ]
  }
 ],
 "metadata": {
  "ExecuteTimeLog": [
   {
    "duration": 4,
    "start_time": "2024-07-09T18:07:46.324Z"
   },
   {
    "duration": 488,
    "start_time": "2024-07-09T18:08:24.325Z"
   },
   {
    "duration": 4255,
    "start_time": "2024-07-09T18:08:36.352Z"
   },
   {
    "duration": 33,
    "start_time": "2024-07-09T18:10:14.668Z"
   },
   {
    "duration": 17,
    "start_time": "2024-07-09T18:10:27.066Z"
   },
   {
    "duration": 12,
    "start_time": "2024-07-09T18:10:39.011Z"
   },
   {
    "duration": 15,
    "start_time": "2024-07-09T18:11:26.510Z"
   },
   {
    "duration": 14,
    "start_time": "2024-07-09T18:11:38.560Z"
   },
   {
    "duration": 285,
    "start_time": "2024-07-09T18:24:37.075Z"
   },
   {
    "duration": 1236,
    "start_time": "2024-07-09T18:27:10.064Z"
   },
   {
    "duration": 81,
    "start_time": "2024-07-09T18:30:15.568Z"
   },
   {
    "duration": 80,
    "start_time": "2024-07-09T18:36:58.938Z"
   },
   {
    "duration": 79,
    "start_time": "2024-07-09T18:39:04.563Z"
   },
   {
    "duration": 289,
    "start_time": "2024-07-09T18:41:30.681Z"
   },
   {
    "duration": 277,
    "start_time": "2024-07-09T18:41:34.668Z"
   },
   {
    "duration": 284,
    "start_time": "2024-07-09T18:41:45.222Z"
   },
   {
    "duration": 3,
    "start_time": "2024-07-09T18:42:03.909Z"
   },
   {
    "duration": 4372,
    "start_time": "2024-07-09T18:42:03.919Z"
   },
   {
    "duration": 37,
    "start_time": "2024-07-09T18:42:08.295Z"
   },
   {
    "duration": 18,
    "start_time": "2024-07-09T18:42:08.335Z"
   },
   {
    "duration": 14,
    "start_time": "2024-07-09T18:42:08.357Z"
   },
   {
    "duration": 51,
    "start_time": "2024-07-09T18:42:08.374Z"
   },
   {
    "duration": 12,
    "start_time": "2024-07-09T18:42:08.429Z"
   },
   {
    "duration": 312,
    "start_time": "2024-07-09T18:42:08.445Z"
   },
   {
    "duration": 7,
    "start_time": "2024-07-09T18:43:21.156Z"
   },
   {
    "duration": 4305,
    "start_time": "2024-07-09T18:43:21.168Z"
   },
   {
    "duration": 49,
    "start_time": "2024-07-09T18:43:25.475Z"
   },
   {
    "duration": 17,
    "start_time": "2024-07-09T18:43:25.527Z"
   },
   {
    "duration": 14,
    "start_time": "2024-07-09T18:43:25.547Z"
   },
   {
    "duration": 14,
    "start_time": "2024-07-09T18:43:25.565Z"
   },
   {
    "duration": 12,
    "start_time": "2024-07-09T18:43:25.623Z"
   },
   {
    "duration": 308,
    "start_time": "2024-07-09T18:43:25.639Z"
   },
   {
    "duration": 27,
    "start_time": "2024-07-09T18:48:07.894Z"
   },
   {
    "duration": 27,
    "start_time": "2024-07-09T18:48:37.280Z"
   },
   {
    "duration": 101,
    "start_time": "2024-07-09T18:49:03.796Z"
   },
   {
    "duration": 79,
    "start_time": "2024-07-09T18:50:45.010Z"
   },
   {
    "duration": 4,
    "start_time": "2024-07-09T18:50:59.201Z"
   },
   {
    "duration": 4254,
    "start_time": "2024-07-09T18:50:59.210Z"
   },
   {
    "duration": 34,
    "start_time": "2024-07-09T18:51:03.467Z"
   },
   {
    "duration": 16,
    "start_time": "2024-07-09T18:51:03.525Z"
   },
   {
    "duration": 13,
    "start_time": "2024-07-09T18:51:03.544Z"
   },
   {
    "duration": 15,
    "start_time": "2024-07-09T18:51:03.561Z"
   },
   {
    "duration": 56,
    "start_time": "2024-07-09T18:51:03.579Z"
   },
   {
    "duration": 317,
    "start_time": "2024-07-09T18:51:03.639Z"
   },
   {
    "duration": 100,
    "start_time": "2024-07-09T18:51:07.283Z"
   },
   {
    "duration": 30,
    "start_time": "2024-07-09T18:52:59.458Z"
   },
   {
    "duration": 77,
    "start_time": "2024-07-09T19:55:23.287Z"
   },
   {
    "duration": 3,
    "start_time": "2024-07-09T19:56:14.165Z"
   },
   {
    "duration": 3865,
    "start_time": "2024-07-09T19:56:14.174Z"
   },
   {
    "duration": 33,
    "start_time": "2024-07-09T19:56:18.042Z"
   },
   {
    "duration": 15,
    "start_time": "2024-07-09T19:56:18.078Z"
   },
   {
    "duration": 11,
    "start_time": "2024-07-09T19:56:18.125Z"
   },
   {
    "duration": 15,
    "start_time": "2024-07-09T19:56:18.139Z"
   },
   {
    "duration": 12,
    "start_time": "2024-07-09T19:56:18.158Z"
   },
   {
    "duration": 307,
    "start_time": "2024-07-09T19:56:18.173Z"
   },
   {
    "duration": 80,
    "start_time": "2024-07-09T19:59:34.451Z"
   },
   {
    "duration": 77,
    "start_time": "2024-07-09T20:10:02.468Z"
   },
   {
    "duration": 3,
    "start_time": "2024-07-09T20:45:41.897Z"
   },
   {
    "duration": 474,
    "start_time": "2024-07-09T20:47:50.254Z"
   },
   {
    "duration": 4043,
    "start_time": "2024-07-09T20:47:50.735Z"
   },
   {
    "duration": 42,
    "start_time": "2024-07-09T20:47:54.782Z"
   },
   {
    "duration": 15,
    "start_time": "2024-07-09T20:47:54.830Z"
   },
   {
    "duration": 12,
    "start_time": "2024-07-09T20:47:54.849Z"
   },
   {
    "duration": 13,
    "start_time": "2024-07-09T20:47:54.865Z"
   },
   {
    "duration": 12,
    "start_time": "2024-07-09T20:47:54.924Z"
   },
   {
    "duration": 299,
    "start_time": "2024-07-09T20:47:54.940Z"
   },
   {
    "duration": 4,
    "start_time": "2024-07-09T20:47:55.242Z"
   },
   {
    "duration": 373,
    "start_time": "2024-07-09T20:47:55.253Z"
   },
   {
    "duration": 0,
    "start_time": "2024-07-09T20:47:55.629Z"
   },
   {
    "duration": 0,
    "start_time": "2024-07-09T20:47:55.631Z"
   },
   {
    "duration": 0,
    "start_time": "2024-07-09T20:47:55.635Z"
   },
   {
    "duration": 0,
    "start_time": "2024-07-09T20:47:55.638Z"
   },
   {
    "duration": 0,
    "start_time": "2024-07-09T20:47:55.640Z"
   },
   {
    "duration": 0,
    "start_time": "2024-07-09T20:47:55.643Z"
   },
   {
    "duration": 0,
    "start_time": "2024-07-09T20:47:55.645Z"
   },
   {
    "duration": 0,
    "start_time": "2024-07-09T20:47:55.646Z"
   },
   {
    "duration": 1,
    "start_time": "2024-07-09T20:47:55.648Z"
   },
   {
    "duration": 0,
    "start_time": "2024-07-09T20:47:55.651Z"
   },
   {
    "duration": 0,
    "start_time": "2024-07-09T20:47:55.653Z"
   },
   {
    "duration": 0,
    "start_time": "2024-07-09T20:47:55.658Z"
   },
   {
    "duration": 0,
    "start_time": "2024-07-09T20:47:55.660Z"
   },
   {
    "duration": 0,
    "start_time": "2024-07-09T20:47:55.662Z"
   },
   {
    "duration": 0,
    "start_time": "2024-07-09T20:47:55.664Z"
   },
   {
    "duration": 0,
    "start_time": "2024-07-09T20:47:55.667Z"
   },
   {
    "duration": 0,
    "start_time": "2024-07-09T20:47:55.725Z"
   },
   {
    "duration": 0,
    "start_time": "2024-07-09T20:47:55.727Z"
   },
   {
    "duration": 0,
    "start_time": "2024-07-09T20:47:55.730Z"
   },
   {
    "duration": 0,
    "start_time": "2024-07-09T20:47:55.733Z"
   },
   {
    "duration": 0,
    "start_time": "2024-07-09T20:47:55.735Z"
   },
   {
    "duration": 1,
    "start_time": "2024-07-09T20:47:55.737Z"
   },
   {
    "duration": 0,
    "start_time": "2024-07-09T20:47:55.740Z"
   },
   {
    "duration": 0,
    "start_time": "2024-07-09T20:47:55.742Z"
   },
   {
    "duration": 292,
    "start_time": "2024-07-09T20:48:30.732Z"
   },
   {
    "duration": 296,
    "start_time": "2024-07-09T20:49:05.933Z"
   },
   {
    "duration": 295,
    "start_time": "2024-07-09T20:49:08.733Z"
   },
   {
    "duration": 325,
    "start_time": "2024-07-09T20:49:30.123Z"
   },
   {
    "duration": 312,
    "start_time": "2024-07-09T20:49:31.052Z"
   },
   {
    "duration": 311,
    "start_time": "2024-07-09T20:49:36.612Z"
   },
   {
    "duration": 296,
    "start_time": "2024-07-09T20:50:04.212Z"
   },
   {
    "duration": 41,
    "start_time": "2024-07-09T20:52:37.459Z"
   },
   {
    "duration": 15,
    "start_time": "2024-07-09T20:52:43.981Z"
   },
   {
    "duration": 947,
    "start_time": "2024-07-09T20:58:49.893Z"
   },
   {
    "duration": 77,
    "start_time": "2024-07-09T20:59:21.013Z"
   },
   {
    "duration": 79,
    "start_time": "2024-07-09T21:00:12.406Z"
   },
   {
    "duration": 119,
    "start_time": "2024-07-09T21:22:55.556Z"
   },
   {
    "duration": 64,
    "start_time": "2024-07-09T21:24:11.909Z"
   },
   {
    "duration": 55,
    "start_time": "2024-07-09T21:26:13.773Z"
   },
   {
    "duration": 4,
    "start_time": "2024-07-09T21:26:20.581Z"
   },
   {
    "duration": 5602,
    "start_time": "2024-07-09T21:26:20.591Z"
   },
   {
    "duration": 60,
    "start_time": "2024-07-09T21:26:26.197Z"
   },
   {
    "duration": 21,
    "start_time": "2024-07-09T21:26:26.262Z"
   },
   {
    "duration": 45,
    "start_time": "2024-07-09T21:26:26.287Z"
   },
   {
    "duration": 16,
    "start_time": "2024-07-09T21:26:26.336Z"
   },
   {
    "duration": 15,
    "start_time": "2024-07-09T21:26:26.356Z"
   },
   {
    "duration": 400,
    "start_time": "2024-07-09T21:26:26.375Z"
   },
   {
    "duration": 122,
    "start_time": "2024-07-09T21:26:26.784Z"
   },
   {
    "duration": 0,
    "start_time": "2024-07-09T21:26:26.913Z"
   },
   {
    "duration": 0,
    "start_time": "2024-07-09T21:26:26.916Z"
   },
   {
    "duration": 637,
    "start_time": "2024-07-09T21:27:42.034Z"
   },
   {
    "duration": 5980,
    "start_time": "2024-07-09T21:27:42.676Z"
   },
   {
    "duration": 52,
    "start_time": "2024-07-09T21:27:48.659Z"
   },
   {
    "duration": 19,
    "start_time": "2024-07-09T21:27:48.724Z"
   },
   {
    "duration": 16,
    "start_time": "2024-07-09T21:27:48.747Z"
   },
   {
    "duration": 17,
    "start_time": "2024-07-09T21:27:48.767Z"
   },
   {
    "duration": 47,
    "start_time": "2024-07-09T21:27:48.788Z"
   },
   {
    "duration": 388,
    "start_time": "2024-07-09T21:27:48.840Z"
   },
   {
    "duration": 1736,
    "start_time": "2024-07-09T21:27:49.232Z"
   },
   {
    "duration": 0,
    "start_time": "2024-07-09T21:27:50.992Z"
   },
   {
    "duration": 0,
    "start_time": "2024-07-09T21:27:51.001Z"
   },
   {
    "duration": 0,
    "start_time": "2024-07-09T21:27:51.008Z"
   },
   {
    "duration": 0,
    "start_time": "2024-07-09T21:27:51.018Z"
   },
   {
    "duration": 0,
    "start_time": "2024-07-09T21:27:51.021Z"
   },
   {
    "duration": 1,
    "start_time": "2024-07-09T21:27:51.023Z"
   },
   {
    "duration": 0,
    "start_time": "2024-07-09T21:27:51.031Z"
   },
   {
    "duration": 0,
    "start_time": "2024-07-09T21:27:51.033Z"
   },
   {
    "duration": 0,
    "start_time": "2024-07-09T21:27:51.038Z"
   },
   {
    "duration": 0,
    "start_time": "2024-07-09T21:27:51.043Z"
   },
   {
    "duration": 0,
    "start_time": "2024-07-09T21:27:51.051Z"
   },
   {
    "duration": 0,
    "start_time": "2024-07-09T21:27:51.058Z"
   },
   {
    "duration": 0,
    "start_time": "2024-07-09T21:27:51.065Z"
   },
   {
    "duration": 0,
    "start_time": "2024-07-09T21:27:51.068Z"
   },
   {
    "duration": 0,
    "start_time": "2024-07-09T21:27:51.075Z"
   },
   {
    "duration": 0,
    "start_time": "2024-07-09T21:27:51.078Z"
   },
   {
    "duration": 0,
    "start_time": "2024-07-09T21:27:51.086Z"
   },
   {
    "duration": 0,
    "start_time": "2024-07-09T21:27:51.089Z"
   },
   {
    "duration": 0,
    "start_time": "2024-07-09T21:27:51.096Z"
   },
   {
    "duration": 0,
    "start_time": "2024-07-09T21:27:51.099Z"
   },
   {
    "duration": 0,
    "start_time": "2024-07-09T21:27:51.107Z"
   },
   {
    "duration": 1,
    "start_time": "2024-07-09T21:27:51.115Z"
   },
   {
    "duration": 0,
    "start_time": "2024-07-09T21:27:51.124Z"
   },
   {
    "duration": 0,
    "start_time": "2024-07-09T21:27:51.126Z"
   },
   {
    "duration": 0,
    "start_time": "2024-07-09T21:27:51.131Z"
   },
   {
    "duration": 345,
    "start_time": "2024-07-09T21:28:11.720Z"
   },
   {
    "duration": 323,
    "start_time": "2024-07-09T21:28:24.618Z"
   },
   {
    "duration": 51,
    "start_time": "2024-07-09T21:28:27.285Z"
   },
   {
    "duration": 28,
    "start_time": "2024-07-09T21:28:55.844Z"
   },
   {
    "duration": 25,
    "start_time": "2024-07-09T21:31:10.234Z"
   },
   {
    "duration": 25,
    "start_time": "2024-07-09T21:31:18.825Z"
   },
   {
    "duration": 71,
    "start_time": "2024-07-09T21:31:31.876Z"
   },
   {
    "duration": 45,
    "start_time": "2024-07-09T21:34:10.748Z"
   },
   {
    "duration": 309,
    "start_time": "2024-07-09T22:36:25.527Z"
   },
   {
    "duration": 22,
    "start_time": "2024-07-09T22:36:39.719Z"
   },
   {
    "duration": 413,
    "start_time": "2024-07-09T22:36:56.981Z"
   },
   {
    "duration": 4008,
    "start_time": "2024-07-09T22:36:57.397Z"
   },
   {
    "duration": 32,
    "start_time": "2024-07-09T22:37:01.411Z"
   },
   {
    "duration": 16,
    "start_time": "2024-07-09T22:37:01.447Z"
   },
   {
    "duration": 47,
    "start_time": "2024-07-09T22:37:01.466Z"
   },
   {
    "duration": 18,
    "start_time": "2024-07-09T22:37:01.516Z"
   },
   {
    "duration": 12,
    "start_time": "2024-07-09T22:37:01.537Z"
   },
   {
    "duration": 456,
    "start_time": "2024-07-09T22:37:28.098Z"
   },
   {
    "duration": 535,
    "start_time": "2024-07-09T22:38:46.403Z"
   },
   {
    "duration": 3,
    "start_time": "2024-07-09T22:56:26.033Z"
   },
   {
    "duration": 3,
    "start_time": "2024-07-09T22:56:32.423Z"
   },
   {
    "duration": 38,
    "start_time": "2024-07-09T22:57:58.654Z"
   },
   {
    "duration": 3,
    "start_time": "2024-07-09T22:58:02.388Z"
   },
   {
    "duration": 37,
    "start_time": "2024-07-09T22:58:22.258Z"
   },
   {
    "duration": 10,
    "start_time": "2024-07-09T23:01:18.950Z"
   },
   {
    "duration": 22,
    "start_time": "2024-07-09T23:01:54.541Z"
   },
   {
    "duration": 9,
    "start_time": "2024-07-09T23:02:00.968Z"
   },
   {
    "duration": 3346,
    "start_time": "2024-07-09T23:02:21.682Z"
   },
   {
    "duration": 77,
    "start_time": "2024-07-09T23:03:59.618Z"
   },
   {
    "duration": 453,
    "start_time": "2024-07-09T23:36:58.936Z"
   },
   {
    "duration": 3861,
    "start_time": "2024-07-09T23:36:59.393Z"
   },
   {
    "duration": 32,
    "start_time": "2024-07-09T23:37:03.257Z"
   },
   {
    "duration": 33,
    "start_time": "2024-07-09T23:37:03.295Z"
   },
   {
    "duration": 14,
    "start_time": "2024-07-09T23:37:03.331Z"
   },
   {
    "duration": 20,
    "start_time": "2024-07-09T23:37:03.348Z"
   },
   {
    "duration": 53,
    "start_time": "2024-07-09T23:37:03.373Z"
   },
   {
    "duration": 1204,
    "start_time": "2024-07-09T23:37:03.431Z"
   },
   {
    "duration": 0,
    "start_time": "2024-07-09T23:37:04.639Z"
   },
   {
    "duration": 0,
    "start_time": "2024-07-09T23:37:04.642Z"
   },
   {
    "duration": 0,
    "start_time": "2024-07-09T23:37:04.644Z"
   },
   {
    "duration": 0,
    "start_time": "2024-07-09T23:37:04.646Z"
   },
   {
    "duration": 0,
    "start_time": "2024-07-09T23:37:04.649Z"
   },
   {
    "duration": 0,
    "start_time": "2024-07-09T23:37:04.650Z"
   },
   {
    "duration": 0,
    "start_time": "2024-07-09T23:37:04.652Z"
   },
   {
    "duration": 0,
    "start_time": "2024-07-09T23:37:04.654Z"
   },
   {
    "duration": 0,
    "start_time": "2024-07-09T23:37:04.657Z"
   },
   {
    "duration": 0,
    "start_time": "2024-07-09T23:37:04.658Z"
   },
   {
    "duration": 0,
    "start_time": "2024-07-09T23:37:04.660Z"
   },
   {
    "duration": 0,
    "start_time": "2024-07-09T23:37:04.661Z"
   },
   {
    "duration": 0,
    "start_time": "2024-07-09T23:37:04.663Z"
   },
   {
    "duration": 0,
    "start_time": "2024-07-09T23:37:04.665Z"
   },
   {
    "duration": 0,
    "start_time": "2024-07-09T23:37:04.667Z"
   },
   {
    "duration": 0,
    "start_time": "2024-07-09T23:37:04.713Z"
   },
   {
    "duration": 0,
    "start_time": "2024-07-09T23:37:04.715Z"
   },
   {
    "duration": 0,
    "start_time": "2024-07-09T23:37:04.718Z"
   },
   {
    "duration": 0,
    "start_time": "2024-07-09T23:37:04.719Z"
   },
   {
    "duration": 0,
    "start_time": "2024-07-09T23:37:04.723Z"
   },
   {
    "duration": 0,
    "start_time": "2024-07-09T23:37:04.724Z"
   },
   {
    "duration": 0,
    "start_time": "2024-07-09T23:37:04.726Z"
   },
   {
    "duration": 0,
    "start_time": "2024-07-09T23:37:04.728Z"
   },
   {
    "duration": 0,
    "start_time": "2024-07-09T23:37:04.731Z"
   },
   {
    "duration": 0,
    "start_time": "2024-07-09T23:37:04.734Z"
   },
   {
    "duration": 0,
    "start_time": "2024-07-09T23:37:04.736Z"
   },
   {
    "duration": 443,
    "start_time": "2024-07-09T23:39:35.085Z"
   },
   {
    "duration": 3844,
    "start_time": "2024-07-09T23:39:35.533Z"
   },
   {
    "duration": 66,
    "start_time": "2024-07-09T23:39:39.380Z"
   },
   {
    "duration": 66,
    "start_time": "2024-07-09T23:39:39.449Z"
   },
   {
    "duration": 15,
    "start_time": "2024-07-09T23:39:39.519Z"
   },
   {
    "duration": 13,
    "start_time": "2024-07-09T23:39:39.538Z"
   },
   {
    "duration": 12,
    "start_time": "2024-07-09T23:39:39.556Z"
   },
   {
    "duration": 1175,
    "start_time": "2024-07-09T23:39:39.614Z"
   },
   {
    "duration": 0,
    "start_time": "2024-07-09T23:39:40.794Z"
   },
   {
    "duration": 0,
    "start_time": "2024-07-09T23:39:40.796Z"
   },
   {
    "duration": 0,
    "start_time": "2024-07-09T23:39:40.798Z"
   },
   {
    "duration": 0,
    "start_time": "2024-07-09T23:39:40.812Z"
   },
   {
    "duration": 0,
    "start_time": "2024-07-09T23:39:40.814Z"
   },
   {
    "duration": 0,
    "start_time": "2024-07-09T23:39:40.817Z"
   },
   {
    "duration": 1,
    "start_time": "2024-07-09T23:39:40.818Z"
   },
   {
    "duration": 0,
    "start_time": "2024-07-09T23:39:40.820Z"
   },
   {
    "duration": 0,
    "start_time": "2024-07-09T23:39:40.824Z"
   },
   {
    "duration": 0,
    "start_time": "2024-07-09T23:39:40.826Z"
   },
   {
    "duration": 0,
    "start_time": "2024-07-09T23:39:40.829Z"
   },
   {
    "duration": 0,
    "start_time": "2024-07-09T23:39:40.831Z"
   },
   {
    "duration": 0,
    "start_time": "2024-07-09T23:39:40.833Z"
   },
   {
    "duration": 0,
    "start_time": "2024-07-09T23:39:40.836Z"
   },
   {
    "duration": 0,
    "start_time": "2024-07-09T23:39:40.838Z"
   },
   {
    "duration": 0,
    "start_time": "2024-07-09T23:39:40.841Z"
   },
   {
    "duration": 0,
    "start_time": "2024-07-09T23:39:40.843Z"
   },
   {
    "duration": 0,
    "start_time": "2024-07-09T23:39:40.846Z"
   },
   {
    "duration": 0,
    "start_time": "2024-07-09T23:39:40.848Z"
   },
   {
    "duration": 0,
    "start_time": "2024-07-09T23:39:40.851Z"
   },
   {
    "duration": 0,
    "start_time": "2024-07-09T23:39:40.852Z"
   },
   {
    "duration": 0,
    "start_time": "2024-07-09T23:39:40.854Z"
   },
   {
    "duration": 0,
    "start_time": "2024-07-09T23:39:40.913Z"
   },
   {
    "duration": 0,
    "start_time": "2024-07-09T23:39:40.915Z"
   },
   {
    "duration": 0,
    "start_time": "2024-07-09T23:39:40.918Z"
   },
   {
    "duration": 0,
    "start_time": "2024-07-09T23:39:40.921Z"
   },
   {
    "duration": 305,
    "start_time": "2024-07-09T23:40:10.727Z"
   },
   {
    "duration": 283,
    "start_time": "2024-07-09T23:40:15.881Z"
   },
   {
    "duration": 310,
    "start_time": "2024-07-09T23:41:54.789Z"
   },
   {
    "duration": 476,
    "start_time": "2024-07-09T23:41:58.902Z"
   },
   {
    "duration": 4070,
    "start_time": "2024-07-09T23:42:02.183Z"
   },
   {
    "duration": 34,
    "start_time": "2024-07-09T23:42:07.874Z"
   },
   {
    "duration": 14,
    "start_time": "2024-07-09T23:42:11.086Z"
   },
   {
    "duration": 16,
    "start_time": "2024-07-09T23:42:13.007Z"
   },
   {
    "duration": 13,
    "start_time": "2024-07-09T23:42:16.135Z"
   },
   {
    "duration": 13,
    "start_time": "2024-07-09T23:42:19.128Z"
   },
   {
    "duration": 899,
    "start_time": "2024-07-09T23:42:28.365Z"
   },
   {
    "duration": 283,
    "start_time": "2024-07-09T23:42:37.610Z"
   },
   {
    "duration": 277,
    "start_time": "2024-07-09T23:42:50.991Z"
   },
   {
    "duration": 32,
    "start_time": "2024-07-09T23:43:05.543Z"
   },
   {
    "duration": 40,
    "start_time": "2024-07-09T23:43:09.767Z"
   },
   {
    "duration": 6,
    "start_time": "2024-07-09T23:43:14.716Z"
   },
   {
    "duration": 38,
    "start_time": "2024-07-09T23:43:25.953Z"
   },
   {
    "duration": 36,
    "start_time": "2024-07-09T23:44:19.155Z"
   },
   {
    "duration": 7,
    "start_time": "2024-07-09T23:44:33.572Z"
   },
   {
    "duration": 3277,
    "start_time": "2024-07-09T23:44:36.824Z"
   },
   {
    "duration": 534,
    "start_time": "2024-07-10T16:32:28.749Z"
   },
   {
    "duration": 5383,
    "start_time": "2024-07-10T16:32:29.288Z"
   },
   {
    "duration": 39,
    "start_time": "2024-07-10T16:32:34.674Z"
   },
   {
    "duration": 21,
    "start_time": "2024-07-10T16:32:34.717Z"
   },
   {
    "duration": 14,
    "start_time": "2024-07-10T16:32:34.744Z"
   },
   {
    "duration": 15,
    "start_time": "2024-07-10T16:32:34.762Z"
   },
   {
    "duration": 16,
    "start_time": "2024-07-10T16:32:34.816Z"
   },
   {
    "duration": 1135,
    "start_time": "2024-07-10T16:32:41.517Z"
   },
   {
    "duration": 17,
    "start_time": "2024-07-10T16:32:53.998Z"
   },
   {
    "duration": 8,
    "start_time": "2024-07-10T16:34:07.596Z"
   },
   {
    "duration": 4251,
    "start_time": "2024-07-10T17:41:40.035Z"
   },
   {
    "duration": 1632,
    "start_time": "2024-07-10T17:43:05.108Z"
   },
   {
    "duration": 1495,
    "start_time": "2024-07-10T17:43:11.934Z"
   },
   {
    "duration": 3,
    "start_time": "2024-07-10T17:43:44.962Z"
   },
   {
    "duration": 41,
    "start_time": "2024-07-10T17:44:23.406Z"
   },
   {
    "duration": 27,
    "start_time": "2024-07-10T17:47:52.293Z"
   },
   {
    "duration": 97,
    "start_time": "2024-07-10T17:55:41.537Z"
   },
   {
    "duration": 11,
    "start_time": "2024-07-10T17:57:13.612Z"
   },
   {
    "duration": 11,
    "start_time": "2024-07-10T17:57:21.292Z"
   },
   {
    "duration": 13,
    "start_time": "2024-07-10T17:58:30.568Z"
   },
   {
    "duration": 13,
    "start_time": "2024-07-10T18:00:09.216Z"
   },
   {
    "duration": 200,
    "start_time": "2024-07-10T18:03:17.270Z"
   },
   {
    "duration": 162,
    "start_time": "2024-07-10T18:03:21.258Z"
   },
   {
    "duration": 211,
    "start_time": "2024-07-10T18:03:48.592Z"
   },
   {
    "duration": 177,
    "start_time": "2024-07-10T18:03:51.717Z"
   },
   {
    "duration": 151,
    "start_time": "2024-07-10T18:03:56.647Z"
   },
   {
    "duration": 83,
    "start_time": "2024-07-10T18:04:10.127Z"
   },
   {
    "duration": 3,
    "start_time": "2024-07-10T18:04:35.324Z"
   },
   {
    "duration": 1586,
    "start_time": "2024-07-10T18:04:35.335Z"
   },
   {
    "duration": 21,
    "start_time": "2024-07-10T18:04:36.923Z"
   },
   {
    "duration": 40,
    "start_time": "2024-07-10T18:04:36.947Z"
   },
   {
    "duration": 14,
    "start_time": "2024-07-10T18:04:36.996Z"
   },
   {
    "duration": 14,
    "start_time": "2024-07-10T18:04:37.013Z"
   },
   {
    "duration": 11,
    "start_time": "2024-07-10T18:04:37.031Z"
   },
   {
    "duration": 63,
    "start_time": "2024-07-10T18:04:37.071Z"
   },
   {
    "duration": 11,
    "start_time": "2024-07-10T18:04:37.138Z"
   },
   {
    "duration": 28,
    "start_time": "2024-07-10T18:04:37.167Z"
   },
   {
    "duration": 298,
    "start_time": "2024-07-10T18:04:37.203Z"
   },
   {
    "duration": 185,
    "start_time": "2024-07-10T18:04:37.505Z"
   },
   {
    "duration": 99,
    "start_time": "2024-07-10T18:04:56.984Z"
   },
   {
    "duration": 43,
    "start_time": "2024-07-10T18:05:37.026Z"
   },
   {
    "duration": 7,
    "start_time": "2024-07-10T18:10:49.735Z"
   },
   {
    "duration": 45,
    "start_time": "2024-07-10T18:12:40.554Z"
   },
   {
    "duration": 478,
    "start_time": "2024-07-10T18:13:10.755Z"
   },
   {
    "duration": 34,
    "start_time": "2024-07-10T18:19:42.809Z"
   },
   {
    "duration": 39,
    "start_time": "2024-07-10T18:23:14.297Z"
   },
   {
    "duration": 839,
    "start_time": "2024-07-10T18:37:45.495Z"
   },
   {
    "duration": 4,
    "start_time": "2024-07-10T18:42:04.071Z"
   },
   {
    "duration": 1484,
    "start_time": "2024-07-10T18:42:04.086Z"
   },
   {
    "duration": 17,
    "start_time": "2024-07-10T18:42:05.573Z"
   },
   {
    "duration": 15,
    "start_time": "2024-07-10T18:42:05.593Z"
   },
   {
    "duration": 14,
    "start_time": "2024-07-10T18:42:05.613Z"
   },
   {
    "duration": 13,
    "start_time": "2024-07-10T18:42:05.667Z"
   },
   {
    "duration": 12,
    "start_time": "2024-07-10T18:42:05.682Z"
   },
   {
    "duration": 71,
    "start_time": "2024-07-10T18:42:05.697Z"
   },
   {
    "duration": 12,
    "start_time": "2024-07-10T18:42:05.771Z"
   },
   {
    "duration": 19,
    "start_time": "2024-07-10T18:42:05.786Z"
   },
   {
    "duration": 175,
    "start_time": "2024-07-10T18:42:05.810Z"
   },
   {
    "duration": 156,
    "start_time": "2024-07-10T18:42:05.988Z"
   },
   {
    "duration": 53,
    "start_time": "2024-07-10T18:42:06.146Z"
   },
   {
    "duration": 23,
    "start_time": "2024-07-10T18:42:06.202Z"
   },
   {
    "duration": 43,
    "start_time": "2024-07-10T18:42:06.228Z"
   },
   {
    "duration": 52,
    "start_time": "2024-07-10T18:42:06.274Z"
   },
   {
    "duration": 91,
    "start_time": "2024-07-10T18:42:06.329Z"
   },
   {
    "duration": 8,
    "start_time": "2024-07-10T18:42:06.422Z"
   },
   {
    "duration": 7,
    "start_time": "2024-07-10T18:43:02.421Z"
   },
   {
    "duration": 5,
    "start_time": "2024-07-10T18:53:06.274Z"
   },
   {
    "duration": 1288,
    "start_time": "2024-07-10T19:12:09.606Z"
   },
   {
    "duration": 1240,
    "start_time": "2024-07-10T19:12:29.635Z"
   },
   {
    "duration": 3,
    "start_time": "2024-07-10T19:24:21.664Z"
   },
   {
    "duration": 1494,
    "start_time": "2024-07-10T19:24:21.671Z"
   },
   {
    "duration": 16,
    "start_time": "2024-07-10T19:24:23.169Z"
   },
   {
    "duration": 16,
    "start_time": "2024-07-10T19:24:23.188Z"
   },
   {
    "duration": 13,
    "start_time": "2024-07-10T19:24:23.209Z"
   },
   {
    "duration": 49,
    "start_time": "2024-07-10T19:24:23.225Z"
   },
   {
    "duration": 12,
    "start_time": "2024-07-10T19:24:23.277Z"
   },
   {
    "duration": 40,
    "start_time": "2024-07-10T19:24:23.292Z"
   },
   {
    "duration": 11,
    "start_time": "2024-07-10T19:24:23.368Z"
   },
   {
    "duration": 20,
    "start_time": "2024-07-10T19:24:23.382Z"
   },
   {
    "duration": 178,
    "start_time": "2024-07-10T19:24:23.407Z"
   },
   {
    "duration": 168,
    "start_time": "2024-07-10T19:24:23.588Z"
   },
   {
    "duration": 45,
    "start_time": "2024-07-10T19:24:23.758Z"
   },
   {
    "duration": 22,
    "start_time": "2024-07-10T19:24:23.806Z"
   },
   {
    "duration": 39,
    "start_time": "2024-07-10T19:24:23.831Z"
   },
   {
    "duration": 37,
    "start_time": "2024-07-10T19:24:23.873Z"
   },
   {
    "duration": 58,
    "start_time": "2024-07-10T19:24:23.912Z"
   },
   {
    "duration": 8,
    "start_time": "2024-07-10T19:24:23.973Z"
   },
   {
    "duration": 10,
    "start_time": "2024-07-10T19:24:23.987Z"
   },
   {
    "duration": 7,
    "start_time": "2024-07-10T19:24:24.000Z"
   },
   {
    "duration": 7,
    "start_time": "2024-07-10T19:24:24.010Z"
   },
   {
    "duration": 1262,
    "start_time": "2024-07-10T19:24:24.021Z"
   },
   {
    "duration": 8,
    "start_time": "2024-07-10T19:27:09.467Z"
   },
   {
    "duration": 310,
    "start_time": "2024-07-11T16:10:58.939Z"
   },
   {
    "duration": 22,
    "start_time": "2024-07-11T16:11:51.902Z"
   },
   {
    "duration": 4365,
    "start_time": "2024-07-11T16:11:56.356Z"
   },
   {
    "duration": 1741,
    "start_time": "2024-07-11T16:12:00.725Z"
   },
   {
    "duration": 19,
    "start_time": "2024-07-11T16:12:02.468Z"
   },
   {
    "duration": 17,
    "start_time": "2024-07-11T16:12:02.502Z"
   },
   {
    "duration": 14,
    "start_time": "2024-07-11T16:12:02.523Z"
   },
   {
    "duration": 13,
    "start_time": "2024-07-11T16:12:02.541Z"
   },
   {
    "duration": 53,
    "start_time": "2024-07-11T16:12:02.557Z"
   },
   {
    "duration": 48,
    "start_time": "2024-07-11T16:12:02.613Z"
   },
   {
    "duration": 45,
    "start_time": "2024-07-11T16:12:02.664Z"
   },
   {
    "duration": 21,
    "start_time": "2024-07-11T16:12:02.712Z"
   },
   {
    "duration": 209,
    "start_time": "2024-07-11T16:12:02.737Z"
   },
   {
    "duration": 180,
    "start_time": "2024-07-11T16:12:02.948Z"
   },
   {
    "duration": 47,
    "start_time": "2024-07-11T16:12:03.131Z"
   },
   {
    "duration": 22,
    "start_time": "2024-07-11T16:12:03.201Z"
   },
   {
    "duration": 7,
    "start_time": "2024-07-11T16:12:03.226Z"
   },
   {
    "duration": 72,
    "start_time": "2024-07-11T16:12:03.236Z"
   },
   {
    "duration": 47,
    "start_time": "2024-07-11T16:12:03.311Z"
   },
   {
    "duration": 9,
    "start_time": "2024-07-11T16:12:03.361Z"
   },
   {
    "duration": 10,
    "start_time": "2024-07-11T16:12:03.401Z"
   },
   {
    "duration": 8,
    "start_time": "2024-07-11T16:12:03.414Z"
   },
   {
    "duration": 6,
    "start_time": "2024-07-11T16:12:03.425Z"
   },
   {
    "duration": 1370,
    "start_time": "2024-07-11T16:12:03.434Z"
   },
   {
    "duration": 1380,
    "start_time": "2024-07-11T16:12:04.807Z"
   },
   {
    "duration": 11,
    "start_time": "2024-07-11T16:12:43.742Z"
   },
   {
    "duration": 8,
    "start_time": "2024-07-11T16:12:54.634Z"
   },
   {
    "duration": 321,
    "start_time": "2024-07-11T17:16:42.715Z"
   },
   {
    "duration": 32,
    "start_time": "2024-07-11T17:17:24.941Z"
   },
   {
    "duration": 4481,
    "start_time": "2024-07-11T17:17:32.301Z"
   },
   {
    "duration": 1704,
    "start_time": "2024-07-11T17:17:36.786Z"
   },
   {
    "duration": 19,
    "start_time": "2024-07-11T17:17:38.493Z"
   },
   {
    "duration": 18,
    "start_time": "2024-07-11T17:17:38.531Z"
   },
   {
    "duration": 17,
    "start_time": "2024-07-11T17:17:38.553Z"
   },
   {
    "duration": 16,
    "start_time": "2024-07-11T17:17:38.573Z"
   },
   {
    "duration": 49,
    "start_time": "2024-07-11T17:17:38.591Z"
   },
   {
    "duration": 50,
    "start_time": "2024-07-11T17:17:38.644Z"
   },
   {
    "duration": 46,
    "start_time": "2024-07-11T17:17:38.696Z"
   },
   {
    "duration": 20,
    "start_time": "2024-07-11T17:17:38.747Z"
   },
   {
    "duration": 210,
    "start_time": "2024-07-11T17:17:38.770Z"
   },
   {
    "duration": 170,
    "start_time": "2024-07-11T17:17:38.983Z"
   },
   {
    "duration": 49,
    "start_time": "2024-07-11T17:17:39.156Z"
   },
   {
    "duration": 41,
    "start_time": "2024-07-11T17:17:39.207Z"
   },
   {
    "duration": 7,
    "start_time": "2024-07-11T17:17:39.251Z"
   },
   {
    "duration": 38,
    "start_time": "2024-07-11T17:17:39.261Z"
   },
   {
    "duration": 39,
    "start_time": "2024-07-11T17:17:39.331Z"
   },
   {
    "duration": 7,
    "start_time": "2024-07-11T17:17:39.373Z"
   },
   {
    "duration": 7,
    "start_time": "2024-07-11T17:17:39.382Z"
   },
   {
    "duration": 42,
    "start_time": "2024-07-11T17:17:39.392Z"
   },
   {
    "duration": 7,
    "start_time": "2024-07-11T17:17:39.437Z"
   },
   {
    "duration": 1360,
    "start_time": "2024-07-11T17:17:39.447Z"
   },
   {
    "duration": 1541,
    "start_time": "2024-07-11T17:17:40.811Z"
   },
   {
    "duration": 10,
    "start_time": "2024-07-11T17:17:42.355Z"
   },
   {
    "duration": 20,
    "start_time": "2024-07-11T17:19:03.896Z"
   },
   {
    "duration": 10,
    "start_time": "2024-07-11T17:20:23.484Z"
   },
   {
    "duration": 11,
    "start_time": "2024-07-11T17:23:35.228Z"
   },
   {
    "duration": 19,
    "start_time": "2024-07-11T17:25:51.972Z"
   },
   {
    "duration": 68,
    "start_time": "2024-07-11T17:28:15.856Z"
   },
   {
    "duration": 4,
    "start_time": "2024-07-11T17:28:22.889Z"
   },
   {
    "duration": 1504,
    "start_time": "2024-07-11T17:28:22.898Z"
   },
   {
    "duration": 31,
    "start_time": "2024-07-11T17:28:24.407Z"
   },
   {
    "duration": 17,
    "start_time": "2024-07-11T17:28:24.441Z"
   },
   {
    "duration": 14,
    "start_time": "2024-07-11T17:28:24.462Z"
   },
   {
    "duration": 59,
    "start_time": "2024-07-11T17:28:24.479Z"
   },
   {
    "duration": 13,
    "start_time": "2024-07-11T17:28:24.541Z"
   },
   {
    "duration": 73,
    "start_time": "2024-07-11T17:28:24.557Z"
   },
   {
    "duration": 14,
    "start_time": "2024-07-11T17:28:24.634Z"
   },
   {
    "duration": 20,
    "start_time": "2024-07-11T17:28:24.655Z"
   },
   {
    "duration": 231,
    "start_time": "2024-07-11T17:28:24.682Z"
   },
   {
    "duration": 195,
    "start_time": "2024-07-11T17:28:24.916Z"
   },
   {
    "duration": 53,
    "start_time": "2024-07-11T17:28:25.113Z"
   },
   {
    "duration": 23,
    "start_time": "2024-07-11T17:28:25.168Z"
   },
   {
    "duration": 38,
    "start_time": "2024-07-11T17:28:25.194Z"
   },
   {
    "duration": 41,
    "start_time": "2024-07-11T17:28:25.234Z"
   },
   {
    "duration": 58,
    "start_time": "2024-07-11T17:28:25.278Z"
   },
   {
    "duration": 8,
    "start_time": "2024-07-11T17:28:25.339Z"
   },
   {
    "duration": 7,
    "start_time": "2024-07-11T17:28:25.351Z"
   },
   {
    "duration": 7,
    "start_time": "2024-07-11T17:28:25.361Z"
   },
   {
    "duration": 6,
    "start_time": "2024-07-11T17:28:25.371Z"
   },
   {
    "duration": 1365,
    "start_time": "2024-07-11T17:28:25.380Z"
   },
   {
    "duration": 1314,
    "start_time": "2024-07-11T17:28:26.748Z"
   },
   {
    "duration": 9,
    "start_time": "2024-07-11T17:28:28.064Z"
   },
   {
    "duration": 19,
    "start_time": "2024-07-11T17:28:28.077Z"
   },
   {
    "duration": 40,
    "start_time": "2024-07-11T17:28:28.100Z"
   },
   {
    "duration": 11,
    "start_time": "2024-07-11T17:28:28.143Z"
   },
   {
    "duration": 19,
    "start_time": "2024-07-11T17:28:28.157Z"
   },
   {
    "duration": 22,
    "start_time": "2024-07-11T17:28:54.692Z"
   },
   {
    "duration": 29,
    "start_time": "2024-07-11T17:30:12.284Z"
   },
   {
    "duration": 28,
    "start_time": "2024-07-11T17:32:16.338Z"
   },
   {
    "duration": 23,
    "start_time": "2024-07-11T17:33:07.822Z"
   },
   {
    "duration": 11,
    "start_time": "2024-07-11T17:33:40.606Z"
   },
   {
    "duration": 12,
    "start_time": "2024-07-11T17:34:53.630Z"
   },
   {
    "duration": 13,
    "start_time": "2024-07-11T17:40:36.649Z"
   },
   {
    "duration": 14,
    "start_time": "2024-07-11T17:48:42.593Z"
   },
   {
    "duration": 38,
    "start_time": "2024-07-11T17:53:04.771Z"
   },
   {
    "duration": 322,
    "start_time": "2024-07-14T15:43:46.531Z"
   },
   {
    "duration": 4416,
    "start_time": "2024-07-14T15:43:52.810Z"
   },
   {
    "duration": 1756,
    "start_time": "2024-07-14T15:43:57.232Z"
   },
   {
    "duration": 30,
    "start_time": "2024-07-14T15:43:58.990Z"
   },
   {
    "duration": 16,
    "start_time": "2024-07-14T15:43:59.023Z"
   },
   {
    "duration": 13,
    "start_time": "2024-07-14T15:43:59.044Z"
   },
   {
    "duration": 13,
    "start_time": "2024-07-14T15:43:59.060Z"
   },
   {
    "duration": 12,
    "start_time": "2024-07-14T15:43:59.109Z"
   },
   {
    "duration": 50,
    "start_time": "2024-07-14T15:43:59.125Z"
   },
   {
    "duration": 43,
    "start_time": "2024-07-14T15:43:59.177Z"
   },
   {
    "duration": 21,
    "start_time": "2024-07-14T15:43:59.223Z"
   },
   {
    "duration": 210,
    "start_time": "2024-07-14T15:43:59.247Z"
   },
   {
    "duration": 177,
    "start_time": "2024-07-14T15:43:59.460Z"
   },
   {
    "duration": 72,
    "start_time": "2024-07-14T15:43:59.640Z"
   },
   {
    "duration": 26,
    "start_time": "2024-07-14T15:43:59.720Z"
   },
   {
    "duration": 7,
    "start_time": "2024-07-14T15:43:59.751Z"
   },
   {
    "duration": 74,
    "start_time": "2024-07-14T15:43:59.762Z"
   },
   {
    "duration": 37,
    "start_time": "2024-07-14T15:43:59.839Z"
   },
   {
    "duration": 7,
    "start_time": "2024-07-14T15:43:59.879Z"
   },
   {
    "duration": 26,
    "start_time": "2024-07-14T15:43:59.888Z"
   },
   {
    "duration": 8,
    "start_time": "2024-07-14T15:43:59.918Z"
   },
   {
    "duration": 9,
    "start_time": "2024-07-14T15:43:59.929Z"
   },
   {
    "duration": 1360,
    "start_time": "2024-07-14T15:43:59.941Z"
   },
   {
    "duration": 1359,
    "start_time": "2024-07-14T15:44:01.309Z"
   },
   {
    "duration": 9,
    "start_time": "2024-07-14T15:44:02.671Z"
   },
   {
    "duration": 39,
    "start_time": "2024-07-14T15:44:02.682Z"
   },
   {
    "duration": 12,
    "start_time": "2024-07-14T15:44:02.724Z"
   },
   {
    "duration": 12,
    "start_time": "2024-07-14T15:44:02.738Z"
   },
   {
    "duration": 57,
    "start_time": "2024-07-14T15:44:02.753Z"
   },
   {
    "duration": 12,
    "start_time": "2024-07-14T15:44:02.813Z"
   },
   {
    "duration": 12,
    "start_time": "2024-07-14T15:44:02.828Z"
   },
   {
    "duration": 67,
    "start_time": "2024-07-14T15:44:02.843Z"
   },
   {
    "duration": 31,
    "start_time": "2024-07-14T15:44:02.912Z"
   },
   {
    "duration": 12,
    "start_time": "2024-07-14T15:44:02.946Z"
   },
   {
    "duration": 51,
    "start_time": "2024-07-14T15:44:02.961Z"
   },
   {
    "duration": 42,
    "start_time": "2024-07-14T15:44:03.015Z"
   },
   {
    "duration": 11,
    "start_time": "2024-07-14T15:44:08.974Z"
   },
   {
    "duration": 710,
    "start_time": "2024-07-14T15:47:40.009Z"
   },
   {
    "duration": 498,
    "start_time": "2024-07-14T15:50:45.246Z"
   },
   {
    "duration": 473,
    "start_time": "2024-07-14T15:55:18.404Z"
   },
   {
    "duration": 690,
    "start_time": "2024-07-14T15:58:17.233Z"
   },
   {
    "duration": 497,
    "start_time": "2024-07-14T16:00:16.474Z"
   },
   {
    "duration": 167,
    "start_time": "2024-07-14T16:03:19.631Z"
   },
   {
    "duration": 1211,
    "start_time": "2024-07-14T16:05:15.910Z"
   },
   {
    "duration": 273,
    "start_time": "2024-07-14T16:09:35.169Z"
   },
   {
    "duration": 384,
    "start_time": "2024-07-14T16:12:20.511Z"
   },
   {
    "duration": 374,
    "start_time": "2024-07-14T16:16:00.489Z"
   },
   {
    "duration": 2154,
    "start_time": "2024-07-14T16:17:20.580Z"
   },
   {
    "duration": 66,
    "start_time": "2024-07-14T16:19:21.927Z"
   },
   {
    "duration": 12,
    "start_time": "2024-07-14T16:23:50.348Z"
   }
  ],
  "colab": {
   "provenance": []
  },
  "kernelspec": {
   "display_name": "Python 3 (ipykernel)",
   "language": "python",
   "name": "python3"
  },
  "language_info": {
   "codemirror_mode": {
    "name": "ipython",
    "version": 3
   },
   "file_extension": ".py",
   "mimetype": "text/x-python",
   "name": "python",
   "nbconvert_exporter": "python",
   "pygments_lexer": "ipython3",
   "version": "3.9.19"
  },
  "toc": {
   "base_numbering": 1,
   "nav_menu": {},
   "number_sections": true,
   "sideBar": true,
   "skip_h1_title": true,
   "title_cell": "Table of Contents",
   "title_sidebar": "Contents",
   "toc_cell": false,
   "toc_position": {},
   "toc_section_display": true,
   "toc_window_display": false
  },
  "vscode": {
   "interpreter": {
    "hash": "01a7be9ec63e704a62cefc5fe7a4756944464ee731be31632bdf42a4cb4688cf"
   }
  }
 },
 "nbformat": 4,
 "nbformat_minor": 5
}
